{
 "cells": [
  {
   "cell_type": "markdown",
   "metadata": {},
   "source": [
    "## Stack Overflow Developer Survey 2020\n",
    "\n",
    "December 2011 Stack Overflow launched their first Annual User Survey to measure changes in user demographics and trends from the previous year. Stack Overflow have continued to reach out to the developer community to ask them a variety of questions, everything from their favorite technologies to their job preferences. The survey results are published and are available to view here: https://insights.stackoverflow.com/survey and includes questions with numerical answers (e.g. age, salary) and questions with categorical answers from multiple choice options ( \"choose one\" or \"choose all that apply\" ). \n",
    "\n",
    "In February 2020, almost 65,000 responses were collected from over 180 countries and dependent territories.  The survey asked respondents 61 questions (i.e., variables), including two questions regarding what programming languages users have done extensive development work in over the past year, and which languages they want to work in over the next year.  \n",
    "\n",
    "The aim of this project is to explore the data provided by Stack Overflows' developer community; analyse correlations between programming languages and between other frameworks, libraries, and tools (i.e., other technologies) users have done extensive development work in over the past year."
   ]
  },
  {
   "cell_type": "markdown",
   "metadata": {},
   "source": [
    "### **Load Libraries.** "
   ]
  },
  {
   "cell_type": "code",
   "execution_count": 1,
   "metadata": {},
   "outputs": [],
   "source": [
    "# Dependencies\n",
    "import pandas as pd\n",
    "import numpy as np\n",
    "import seaborn as sns\n",
    "import plotly.express as px\n",
    "import plotly.graph_objects as go\n",
    "import plotly.io as pio\n",
    "import matplotlib.pyplot as plt\n",
    "from plotly.subplots import make_subplots\n",
    "plt.style.use('ggplot')\n",
    "import datetime"
   ]
  },
  {
   "cell_type": "markdown",
   "metadata": {},
   "source": [
    "### **Gather Data.** "
   ]
  },
  {
   "cell_type": "code",
   "execution_count": 2,
   "metadata": {
    "scrolled": true
   },
   "outputs": [
    {
     "data": {
      "text/html": [
       "<div>\n",
       "<style scoped>\n",
       "    .dataframe tbody tr th:only-of-type {\n",
       "        vertical-align: middle;\n",
       "    }\n",
       "\n",
       "    .dataframe tbody tr th {\n",
       "        vertical-align: top;\n",
       "    }\n",
       "\n",
       "    .dataframe thead th {\n",
       "        text-align: right;\n",
       "    }\n",
       "</style>\n",
       "<table border=\"1\" class=\"dataframe\">\n",
       "  <thead>\n",
       "    <tr style=\"text-align: right;\">\n",
       "      <th></th>\n",
       "      <th>Respondent</th>\n",
       "      <th>MainBranch</th>\n",
       "      <th>Hobbyist</th>\n",
       "      <th>Age</th>\n",
       "      <th>Age1stCode</th>\n",
       "      <th>CompFreq</th>\n",
       "      <th>CompTotal</th>\n",
       "      <th>ConvertedComp</th>\n",
       "      <th>Country</th>\n",
       "      <th>CurrencyDesc</th>\n",
       "      <th>...</th>\n",
       "      <th>SurveyEase</th>\n",
       "      <th>SurveyLength</th>\n",
       "      <th>Trans</th>\n",
       "      <th>UndergradMajor</th>\n",
       "      <th>WebframeDesireNextYear</th>\n",
       "      <th>WebframeWorkedWith</th>\n",
       "      <th>WelcomeChange</th>\n",
       "      <th>WorkWeekHrs</th>\n",
       "      <th>YearsCode</th>\n",
       "      <th>YearsCodePro</th>\n",
       "    </tr>\n",
       "  </thead>\n",
       "  <tbody>\n",
       "    <tr>\n",
       "      <th>0</th>\n",
       "      <td>1</td>\n",
       "      <td>I am a developer by profession</td>\n",
       "      <td>Yes</td>\n",
       "      <td>NaN</td>\n",
       "      <td>13</td>\n",
       "      <td>Monthly</td>\n",
       "      <td>NaN</td>\n",
       "      <td>NaN</td>\n",
       "      <td>Germany</td>\n",
       "      <td>European Euro</td>\n",
       "      <td>...</td>\n",
       "      <td>Neither easy nor difficult</td>\n",
       "      <td>Appropriate in length</td>\n",
       "      <td>No</td>\n",
       "      <td>Computer science, computer engineering, or sof...</td>\n",
       "      <td>ASP.NET Core</td>\n",
       "      <td>ASP.NET;ASP.NET Core</td>\n",
       "      <td>Just as welcome now as I felt last year</td>\n",
       "      <td>50.0</td>\n",
       "      <td>36</td>\n",
       "      <td>27</td>\n",
       "    </tr>\n",
       "    <tr>\n",
       "      <th>1</th>\n",
       "      <td>2</td>\n",
       "      <td>I am a developer by profession</td>\n",
       "      <td>No</td>\n",
       "      <td>NaN</td>\n",
       "      <td>19</td>\n",
       "      <td>NaN</td>\n",
       "      <td>NaN</td>\n",
       "      <td>NaN</td>\n",
       "      <td>United Kingdom</td>\n",
       "      <td>Pound sterling</td>\n",
       "      <td>...</td>\n",
       "      <td>NaN</td>\n",
       "      <td>NaN</td>\n",
       "      <td>NaN</td>\n",
       "      <td>Computer science, computer engineering, or sof...</td>\n",
       "      <td>NaN</td>\n",
       "      <td>NaN</td>\n",
       "      <td>Somewhat more welcome now than last year</td>\n",
       "      <td>NaN</td>\n",
       "      <td>7</td>\n",
       "      <td>4</td>\n",
       "    </tr>\n",
       "    <tr>\n",
       "      <th>2</th>\n",
       "      <td>3</td>\n",
       "      <td>I code primarily as a hobby</td>\n",
       "      <td>Yes</td>\n",
       "      <td>NaN</td>\n",
       "      <td>15</td>\n",
       "      <td>NaN</td>\n",
       "      <td>NaN</td>\n",
       "      <td>NaN</td>\n",
       "      <td>Russian Federation</td>\n",
       "      <td>NaN</td>\n",
       "      <td>...</td>\n",
       "      <td>Neither easy nor difficult</td>\n",
       "      <td>Appropriate in length</td>\n",
       "      <td>NaN</td>\n",
       "      <td>NaN</td>\n",
       "      <td>NaN</td>\n",
       "      <td>NaN</td>\n",
       "      <td>Somewhat more welcome now than last year</td>\n",
       "      <td>NaN</td>\n",
       "      <td>4</td>\n",
       "      <td>NaN</td>\n",
       "    </tr>\n",
       "    <tr>\n",
       "      <th>3</th>\n",
       "      <td>4</td>\n",
       "      <td>I am a developer by profession</td>\n",
       "      <td>Yes</td>\n",
       "      <td>25.0</td>\n",
       "      <td>18</td>\n",
       "      <td>NaN</td>\n",
       "      <td>NaN</td>\n",
       "      <td>NaN</td>\n",
       "      <td>Albania</td>\n",
       "      <td>Albanian lek</td>\n",
       "      <td>...</td>\n",
       "      <td>NaN</td>\n",
       "      <td>NaN</td>\n",
       "      <td>No</td>\n",
       "      <td>Computer science, computer engineering, or sof...</td>\n",
       "      <td>NaN</td>\n",
       "      <td>NaN</td>\n",
       "      <td>Somewhat less welcome now than last year</td>\n",
       "      <td>40.0</td>\n",
       "      <td>7</td>\n",
       "      <td>4</td>\n",
       "    </tr>\n",
       "    <tr>\n",
       "      <th>4</th>\n",
       "      <td>5</td>\n",
       "      <td>I used to be a developer by profession, but no...</td>\n",
       "      <td>Yes</td>\n",
       "      <td>31.0</td>\n",
       "      <td>16</td>\n",
       "      <td>NaN</td>\n",
       "      <td>NaN</td>\n",
       "      <td>NaN</td>\n",
       "      <td>United States</td>\n",
       "      <td>NaN</td>\n",
       "      <td>...</td>\n",
       "      <td>Easy</td>\n",
       "      <td>Too short</td>\n",
       "      <td>No</td>\n",
       "      <td>Computer science, computer engineering, or sof...</td>\n",
       "      <td>Django;Ruby on Rails</td>\n",
       "      <td>Ruby on Rails</td>\n",
       "      <td>Just as welcome now as I felt last year</td>\n",
       "      <td>NaN</td>\n",
       "      <td>15</td>\n",
       "      <td>8</td>\n",
       "    </tr>\n",
       "  </tbody>\n",
       "</table>\n",
       "<p>5 rows × 61 columns</p>\n",
       "</div>"
      ],
      "text/plain": [
       "   Respondent                                         MainBranch Hobbyist  \\\n",
       "0           1                     I am a developer by profession      Yes   \n",
       "1           2                     I am a developer by profession       No   \n",
       "2           3                        I code primarily as a hobby      Yes   \n",
       "3           4                     I am a developer by profession      Yes   \n",
       "4           5  I used to be a developer by profession, but no...      Yes   \n",
       "\n",
       "    Age Age1stCode CompFreq  CompTotal  ConvertedComp             Country  \\\n",
       "0   NaN         13  Monthly        NaN            NaN             Germany   \n",
       "1   NaN         19      NaN        NaN            NaN      United Kingdom   \n",
       "2   NaN         15      NaN        NaN            NaN  Russian Federation   \n",
       "3  25.0         18      NaN        NaN            NaN             Albania   \n",
       "4  31.0         16      NaN        NaN            NaN       United States   \n",
       "\n",
       "     CurrencyDesc  ...                  SurveyEase           SurveyLength  \\\n",
       "0   European Euro  ...  Neither easy nor difficult  Appropriate in length   \n",
       "1  Pound sterling  ...                         NaN                    NaN   \n",
       "2             NaN  ...  Neither easy nor difficult  Appropriate in length   \n",
       "3    Albanian lek  ...                         NaN                    NaN   \n",
       "4             NaN  ...                        Easy              Too short   \n",
       "\n",
       "  Trans                                     UndergradMajor  \\\n",
       "0    No  Computer science, computer engineering, or sof...   \n",
       "1   NaN  Computer science, computer engineering, or sof...   \n",
       "2   NaN                                                NaN   \n",
       "3    No  Computer science, computer engineering, or sof...   \n",
       "4    No  Computer science, computer engineering, or sof...   \n",
       "\n",
       "  WebframeDesireNextYear    WebframeWorkedWith  \\\n",
       "0           ASP.NET Core  ASP.NET;ASP.NET Core   \n",
       "1                    NaN                   NaN   \n",
       "2                    NaN                   NaN   \n",
       "3                    NaN                   NaN   \n",
       "4   Django;Ruby on Rails         Ruby on Rails   \n",
       "\n",
       "                              WelcomeChange WorkWeekHrs YearsCode YearsCodePro  \n",
       "0   Just as welcome now as I felt last year        50.0        36           27  \n",
       "1  Somewhat more welcome now than last year         NaN         7            4  \n",
       "2  Somewhat more welcome now than last year         NaN         4          NaN  \n",
       "3  Somewhat less welcome now than last year        40.0         7            4  \n",
       "4   Just as welcome now as I felt last year         NaN        15            8  \n",
       "\n",
       "[5 rows x 61 columns]"
      ]
     },
     "execution_count": 2,
     "metadata": {},
     "output_type": "execute_result"
    }
   ],
   "source": [
    "# Read csv file and specify the parameters\n",
    "sOverflow = pd.read_csv(\"data/survey_2020.csv\")\n",
    "sOverflow.head()"
   ]
  },
  {
   "cell_type": "code",
   "execution_count": 3,
   "metadata": {},
   "outputs": [
    {
     "data": {
      "text/plain": [
       "(64461, 61)"
      ]
     },
     "execution_count": 3,
     "metadata": {},
     "output_type": "execute_result"
    }
   ],
   "source": [
    "#Check number of rows & columns\n",
    "sOverflow.shape"
   ]
  },
  {
   "cell_type": "code",
   "execution_count": 4,
   "metadata": {},
   "outputs": [
    {
     "data": {
      "text/plain": [
       "Respondent            64461\n",
       "MainBranch                5\n",
       "Hobbyist                  2\n",
       "Age                     110\n",
       "Age1stCode               63\n",
       "                      ...  \n",
       "WebframeWorkedWith     3789\n",
       "WelcomeChange             6\n",
       "WorkWeekHrs             157\n",
       "YearsCode                52\n",
       "YearsCodePro             52\n",
       "Length: 61, dtype: int64"
      ]
     },
     "execution_count": 4,
     "metadata": {},
     "output_type": "execute_result"
    }
   ],
   "source": [
    "sOverflow.nunique() #  show no. of unique entries in each column "
   ]
  },
  {
   "cell_type": "code",
   "execution_count": 5,
   "metadata": {
    "scrolled": false
   },
   "outputs": [
    {
     "data": {
      "text/html": [
       "<div>\n",
       "<style scoped>\n",
       "    .dataframe tbody tr th:only-of-type {\n",
       "        vertical-align: middle;\n",
       "    }\n",
       "\n",
       "    .dataframe tbody tr th {\n",
       "        vertical-align: top;\n",
       "    }\n",
       "\n",
       "    .dataframe thead th {\n",
       "        text-align: right;\n",
       "    }\n",
       "</style>\n",
       "<table border=\"1\" class=\"dataframe\">\n",
       "  <thead>\n",
       "    <tr style=\"text-align: right;\">\n",
       "      <th></th>\n",
       "      <th>Respondent</th>\n",
       "      <th>DevType</th>\n",
       "      <th>OpSys</th>\n",
       "      <th>YearsCode</th>\n",
       "      <th>YearsCodePro</th>\n",
       "      <th>Country</th>\n",
       "      <th>Hobbyist</th>\n",
       "      <th>Age</th>\n",
       "      <th>Gender</th>\n",
       "      <th>Ethnicity</th>\n",
       "      <th>Employment</th>\n",
       "      <th>EdLevel</th>\n",
       "      <th>UndergradMajor</th>\n",
       "      <th>NEWEdImpt</th>\n",
       "      <th>NEWLearn</th>\n",
       "      <th>LanguageDesireNextYear</th>\n",
       "      <th>LanguageWorkedWith</th>\n",
       "    </tr>\n",
       "  </thead>\n",
       "  <tbody>\n",
       "    <tr>\n",
       "      <th>0</th>\n",
       "      <td>1</td>\n",
       "      <td>Developer, desktop or enterprise applications;...</td>\n",
       "      <td>Windows</td>\n",
       "      <td>36</td>\n",
       "      <td>27</td>\n",
       "      <td>Germany</td>\n",
       "      <td>Yes</td>\n",
       "      <td>NaN</td>\n",
       "      <td>Man</td>\n",
       "      <td>White or of European descent</td>\n",
       "      <td>Independent contractor, freelancer, or self-em...</td>\n",
       "      <td>Master’s degree (M.A., M.S., M.Eng., MBA, etc.)</td>\n",
       "      <td>Computer science, computer engineering, or sof...</td>\n",
       "      <td>Fairly important</td>\n",
       "      <td>Once a year</td>\n",
       "      <td>C#;HTML/CSS;JavaScript</td>\n",
       "      <td>C#;HTML/CSS;JavaScript</td>\n",
       "    </tr>\n",
       "    <tr>\n",
       "      <th>1</th>\n",
       "      <td>2</td>\n",
       "      <td>Developer, full-stack;Developer, mobile</td>\n",
       "      <td>MacOS</td>\n",
       "      <td>7</td>\n",
       "      <td>4</td>\n",
       "      <td>United Kingdom</td>\n",
       "      <td>No</td>\n",
       "      <td>NaN</td>\n",
       "      <td>NaN</td>\n",
       "      <td>NaN</td>\n",
       "      <td>Employed full-time</td>\n",
       "      <td>Bachelor’s degree (B.A., B.S., B.Eng., etc.)</td>\n",
       "      <td>Computer science, computer engineering, or sof...</td>\n",
       "      <td>Fairly important</td>\n",
       "      <td>Once a year</td>\n",
       "      <td>Python;Swift</td>\n",
       "      <td>JavaScript;Swift</td>\n",
       "    </tr>\n",
       "    <tr>\n",
       "      <th>2</th>\n",
       "      <td>3</td>\n",
       "      <td>NaN</td>\n",
       "      <td>Linux-based</td>\n",
       "      <td>4</td>\n",
       "      <td>NaN</td>\n",
       "      <td>Russian Federation</td>\n",
       "      <td>Yes</td>\n",
       "      <td>NaN</td>\n",
       "      <td>NaN</td>\n",
       "      <td>NaN</td>\n",
       "      <td>NaN</td>\n",
       "      <td>NaN</td>\n",
       "      <td>NaN</td>\n",
       "      <td>NaN</td>\n",
       "      <td>Once a decade</td>\n",
       "      <td>Objective-C;Python;Swift</td>\n",
       "      <td>Objective-C;Python;Swift</td>\n",
       "    </tr>\n",
       "    <tr>\n",
       "      <th>3</th>\n",
       "      <td>4</td>\n",
       "      <td>NaN</td>\n",
       "      <td>Linux-based</td>\n",
       "      <td>7</td>\n",
       "      <td>4</td>\n",
       "      <td>Albania</td>\n",
       "      <td>Yes</td>\n",
       "      <td>25.0</td>\n",
       "      <td>Man</td>\n",
       "      <td>White or of European descent</td>\n",
       "      <td>NaN</td>\n",
       "      <td>Master’s degree (M.A., M.S., M.Eng., MBA, etc.)</td>\n",
       "      <td>Computer science, computer engineering, or sof...</td>\n",
       "      <td>Not at all important/not necessary</td>\n",
       "      <td>Once a year</td>\n",
       "      <td>NaN</td>\n",
       "      <td>NaN</td>\n",
       "    </tr>\n",
       "    <tr>\n",
       "      <th>4</th>\n",
       "      <td>5</td>\n",
       "      <td>NaN</td>\n",
       "      <td>Windows</td>\n",
       "      <td>15</td>\n",
       "      <td>8</td>\n",
       "      <td>United States</td>\n",
       "      <td>Yes</td>\n",
       "      <td>31.0</td>\n",
       "      <td>Man</td>\n",
       "      <td>White or of European descent</td>\n",
       "      <td>Employed full-time</td>\n",
       "      <td>Bachelor’s degree (B.A., B.S., B.Eng., etc.)</td>\n",
       "      <td>Computer science, computer engineering, or sof...</td>\n",
       "      <td>Very important</td>\n",
       "      <td>Once a year</td>\n",
       "      <td>Java;Ruby;Scala</td>\n",
       "      <td>HTML/CSS;Ruby;SQL</td>\n",
       "    </tr>\n",
       "  </tbody>\n",
       "</table>\n",
       "</div>"
      ],
      "text/plain": [
       "   Respondent                                            DevType        OpSys  \\\n",
       "0           1  Developer, desktop or enterprise applications;...      Windows   \n",
       "1           2            Developer, full-stack;Developer, mobile        MacOS   \n",
       "2           3                                                NaN  Linux-based   \n",
       "3           4                                                NaN  Linux-based   \n",
       "4           5                                                NaN      Windows   \n",
       "\n",
       "  YearsCode YearsCodePro             Country Hobbyist   Age Gender  \\\n",
       "0        36           27             Germany      Yes   NaN    Man   \n",
       "1         7            4      United Kingdom       No   NaN    NaN   \n",
       "2         4          NaN  Russian Federation      Yes   NaN    NaN   \n",
       "3         7            4             Albania      Yes  25.0    Man   \n",
       "4        15            8       United States      Yes  31.0    Man   \n",
       "\n",
       "                      Ethnicity  \\\n",
       "0  White or of European descent   \n",
       "1                           NaN   \n",
       "2                           NaN   \n",
       "3  White or of European descent   \n",
       "4  White or of European descent   \n",
       "\n",
       "                                          Employment  \\\n",
       "0  Independent contractor, freelancer, or self-em...   \n",
       "1                                 Employed full-time   \n",
       "2                                                NaN   \n",
       "3                                                NaN   \n",
       "4                                 Employed full-time   \n",
       "\n",
       "                                           EdLevel  \\\n",
       "0  Master’s degree (M.A., M.S., M.Eng., MBA, etc.)   \n",
       "1     Bachelor’s degree (B.A., B.S., B.Eng., etc.)   \n",
       "2                                              NaN   \n",
       "3  Master’s degree (M.A., M.S., M.Eng., MBA, etc.)   \n",
       "4     Bachelor’s degree (B.A., B.S., B.Eng., etc.)   \n",
       "\n",
       "                                      UndergradMajor  \\\n",
       "0  Computer science, computer engineering, or sof...   \n",
       "1  Computer science, computer engineering, or sof...   \n",
       "2                                                NaN   \n",
       "3  Computer science, computer engineering, or sof...   \n",
       "4  Computer science, computer engineering, or sof...   \n",
       "\n",
       "                            NEWEdImpt       NEWLearn  \\\n",
       "0                    Fairly important    Once a year   \n",
       "1                    Fairly important    Once a year   \n",
       "2                                 NaN  Once a decade   \n",
       "3  Not at all important/not necessary    Once a year   \n",
       "4                      Very important    Once a year   \n",
       "\n",
       "     LanguageDesireNextYear        LanguageWorkedWith  \n",
       "0    C#;HTML/CSS;JavaScript    C#;HTML/CSS;JavaScript  \n",
       "1              Python;Swift          JavaScript;Swift  \n",
       "2  Objective-C;Python;Swift  Objective-C;Python;Swift  \n",
       "3                       NaN                       NaN  \n",
       "4           Java;Ruby;Scala         HTML/CSS;Ruby;SQL  "
      ]
     },
     "execution_count": 5,
     "metadata": {},
     "output_type": "execute_result"
    }
   ],
   "source": [
    "#Filter data\n",
    "stackO = sOverflow[['Respondent','DevType','OpSys','YearsCode','YearsCodePro','Country',\n",
    "                    'Hobbyist','Age','Gender','Ethnicity','Employment',\n",
    "                    'EdLevel','UndergradMajor','NEWEdImpt','NEWLearn',\n",
    "                    'LanguageDesireNextYear','LanguageWorkedWith']]\n",
    "stackO.head()\n",
    "#64461 rows × 16 columns"
   ]
  },
  {
   "cell_type": "markdown",
   "metadata": {},
   "source": [
    "## **Data Filtering: Selected a smaller part the data set to use for viewing and analysis.** \n",
    "\n",
    ">Subset: StackOverflow Survey Results for the U.S"
   ]
  },
  {
   "cell_type": "code",
   "execution_count": 6,
   "metadata": {
    "scrolled": true
   },
   "outputs": [
    {
     "data": {
      "text/html": [
       "<div>\n",
       "<style scoped>\n",
       "    .dataframe tbody tr th:only-of-type {\n",
       "        vertical-align: middle;\n",
       "    }\n",
       "\n",
       "    .dataframe tbody tr th {\n",
       "        vertical-align: top;\n",
       "    }\n",
       "\n",
       "    .dataframe thead th {\n",
       "        text-align: right;\n",
       "    }\n",
       "</style>\n",
       "<table border=\"1\" class=\"dataframe\">\n",
       "  <thead>\n",
       "    <tr style=\"text-align: right;\">\n",
       "      <th></th>\n",
       "      <th>Respondent</th>\n",
       "      <th>DevType</th>\n",
       "      <th>OpSys</th>\n",
       "      <th>YearsCode</th>\n",
       "      <th>YearsCodePro</th>\n",
       "      <th>Country</th>\n",
       "      <th>Hobbyist</th>\n",
       "      <th>Age</th>\n",
       "      <th>Gender</th>\n",
       "      <th>Ethnicity</th>\n",
       "      <th>Employment</th>\n",
       "      <th>EdLevel</th>\n",
       "      <th>UndergradMajor</th>\n",
       "      <th>NEWEdImpt</th>\n",
       "      <th>NEWLearn</th>\n",
       "      <th>LanguageDesireNextYear</th>\n",
       "      <th>LanguageWorkedWith</th>\n",
       "    </tr>\n",
       "  </thead>\n",
       "  <tbody>\n",
       "    <tr>\n",
       "      <th>4</th>\n",
       "      <td>5</td>\n",
       "      <td>NaN</td>\n",
       "      <td>Windows</td>\n",
       "      <td>15</td>\n",
       "      <td>8</td>\n",
       "      <td>United States</td>\n",
       "      <td>Yes</td>\n",
       "      <td>31.0</td>\n",
       "      <td>Man</td>\n",
       "      <td>White or of European descent</td>\n",
       "      <td>Employed full-time</td>\n",
       "      <td>Bachelor’s degree (B.A., B.S., B.Eng., etc.)</td>\n",
       "      <td>Computer science, computer engineering, or sof...</td>\n",
       "      <td>Very important</td>\n",
       "      <td>Once a year</td>\n",
       "      <td>Java;Ruby;Scala</td>\n",
       "      <td>HTML/CSS;Ruby;SQL</td>\n",
       "    </tr>\n",
       "    <tr>\n",
       "      <th>7</th>\n",
       "      <td>8</td>\n",
       "      <td>Developer, back-end;Developer, desktop or ente...</td>\n",
       "      <td>Linux-based</td>\n",
       "      <td>17</td>\n",
       "      <td>13</td>\n",
       "      <td>United States</td>\n",
       "      <td>Yes</td>\n",
       "      <td>36.0</td>\n",
       "      <td>Man</td>\n",
       "      <td>White or of European descent</td>\n",
       "      <td>Employed full-time</td>\n",
       "      <td>Bachelor’s degree (B.A., B.S., B.Eng., etc.)</td>\n",
       "      <td>Computer science, computer engineering, or sof...</td>\n",
       "      <td>Not at all important/not necessary</td>\n",
       "      <td>Once a year</td>\n",
       "      <td>JavaScript</td>\n",
       "      <td>Python;SQL</td>\n",
       "    </tr>\n",
       "    <tr>\n",
       "      <th>13</th>\n",
       "      <td>14</td>\n",
       "      <td>Developer, desktop or enterprise applications;...</td>\n",
       "      <td>Windows</td>\n",
       "      <td>5</td>\n",
       "      <td>1</td>\n",
       "      <td>United States</td>\n",
       "      <td>Yes</td>\n",
       "      <td>27.0</td>\n",
       "      <td>Man</td>\n",
       "      <td>White or of European descent</td>\n",
       "      <td>Employed full-time</td>\n",
       "      <td>Associate degree (A.A., A.S., etc.)</td>\n",
       "      <td>Computer science, computer engineering, or sof...</td>\n",
       "      <td>Somewhat important</td>\n",
       "      <td>Every few months</td>\n",
       "      <td>HTML/CSS;JavaScript;SQL;TypeScript</td>\n",
       "      <td>HTML/CSS;JavaScript;SQL;TypeScript</td>\n",
       "    </tr>\n",
       "    <tr>\n",
       "      <th>16</th>\n",
       "      <td>17</td>\n",
       "      <td>Developer, full-stack</td>\n",
       "      <td>Windows</td>\n",
       "      <td>7</td>\n",
       "      <td>3</td>\n",
       "      <td>United States</td>\n",
       "      <td>Yes</td>\n",
       "      <td>25.0</td>\n",
       "      <td>Man</td>\n",
       "      <td>White or of European descent</td>\n",
       "      <td>Employed full-time</td>\n",
       "      <td>Bachelor’s degree (B.A., B.S., B.Eng., etc.)</td>\n",
       "      <td>Computer science, computer engineering, or sof...</td>\n",
       "      <td>Fairly important</td>\n",
       "      <td>Once a year</td>\n",
       "      <td>C#;Go;Haskell;HTML/CSS;JavaScript;Python;Ruby;...</td>\n",
       "      <td>C#;HTML/CSS;JavaScript;Python;SQL;VBA</td>\n",
       "    </tr>\n",
       "    <tr>\n",
       "      <th>17</th>\n",
       "      <td>18</td>\n",
       "      <td>Developer, back-end</td>\n",
       "      <td>Linux-based</td>\n",
       "      <td>19</td>\n",
       "      <td>12</td>\n",
       "      <td>United States</td>\n",
       "      <td>Yes</td>\n",
       "      <td>32.0</td>\n",
       "      <td>Man</td>\n",
       "      <td>White or of European descent</td>\n",
       "      <td>Employed full-time</td>\n",
       "      <td>Bachelor’s degree (B.A., B.S., B.Eng., etc.)</td>\n",
       "      <td>Computer science, computer engineering, or sof...</td>\n",
       "      <td>Very important</td>\n",
       "      <td>Once every few years</td>\n",
       "      <td>HTML/CSS;Perl</td>\n",
       "      <td>Bash/Shell/PowerShell;HTML/CSS;Perl</td>\n",
       "    </tr>\n",
       "  </tbody>\n",
       "</table>\n",
       "</div>"
      ],
      "text/plain": [
       "    Respondent                                            DevType  \\\n",
       "4            5                                                NaN   \n",
       "7            8  Developer, back-end;Developer, desktop or ente...   \n",
       "13          14  Developer, desktop or enterprise applications;...   \n",
       "16          17                              Developer, full-stack   \n",
       "17          18                                Developer, back-end   \n",
       "\n",
       "          OpSys YearsCode YearsCodePro        Country Hobbyist   Age Gender  \\\n",
       "4       Windows        15            8  United States      Yes  31.0    Man   \n",
       "7   Linux-based        17           13  United States      Yes  36.0    Man   \n",
       "13      Windows         5            1  United States      Yes  27.0    Man   \n",
       "16      Windows         7            3  United States      Yes  25.0    Man   \n",
       "17  Linux-based        19           12  United States      Yes  32.0    Man   \n",
       "\n",
       "                       Ethnicity          Employment  \\\n",
       "4   White or of European descent  Employed full-time   \n",
       "7   White or of European descent  Employed full-time   \n",
       "13  White or of European descent  Employed full-time   \n",
       "16  White or of European descent  Employed full-time   \n",
       "17  White or of European descent  Employed full-time   \n",
       "\n",
       "                                         EdLevel  \\\n",
       "4   Bachelor’s degree (B.A., B.S., B.Eng., etc.)   \n",
       "7   Bachelor’s degree (B.A., B.S., B.Eng., etc.)   \n",
       "13           Associate degree (A.A., A.S., etc.)   \n",
       "16  Bachelor’s degree (B.A., B.S., B.Eng., etc.)   \n",
       "17  Bachelor’s degree (B.A., B.S., B.Eng., etc.)   \n",
       "\n",
       "                                       UndergradMajor  \\\n",
       "4   Computer science, computer engineering, or sof...   \n",
       "7   Computer science, computer engineering, or sof...   \n",
       "13  Computer science, computer engineering, or sof...   \n",
       "16  Computer science, computer engineering, or sof...   \n",
       "17  Computer science, computer engineering, or sof...   \n",
       "\n",
       "                             NEWEdImpt              NEWLearn  \\\n",
       "4                       Very important           Once a year   \n",
       "7   Not at all important/not necessary           Once a year   \n",
       "13                  Somewhat important      Every few months   \n",
       "16                    Fairly important           Once a year   \n",
       "17                      Very important  Once every few years   \n",
       "\n",
       "                               LanguageDesireNextYear  \\\n",
       "4                                     Java;Ruby;Scala   \n",
       "7                                          JavaScript   \n",
       "13                 HTML/CSS;JavaScript;SQL;TypeScript   \n",
       "16  C#;Go;Haskell;HTML/CSS;JavaScript;Python;Ruby;...   \n",
       "17                                      HTML/CSS;Perl   \n",
       "\n",
       "                       LanguageWorkedWith  \n",
       "4                       HTML/CSS;Ruby;SQL  \n",
       "7                              Python;SQL  \n",
       "13     HTML/CSS;JavaScript;SQL;TypeScript  \n",
       "16  C#;HTML/CSS;JavaScript;Python;SQL;VBA  \n",
       "17    Bash/Shell/PowerShell;HTML/CSS;Perl  "
      ]
     },
     "execution_count": 6,
     "metadata": {},
     "output_type": "execute_result"
    }
   ],
   "source": [
    "stackO_US = stackO.loc[stackO['Country'] == 'United States']\n",
    "stackO_US.head()\n"
   ]
  },
  {
   "cell_type": "code",
   "execution_count": 7,
   "metadata": {},
   "outputs": [
    {
     "data": {
      "text/plain": [
       "(12469, 17)"
      ]
     },
     "execution_count": 7,
     "metadata": {},
     "output_type": "execute_result"
    }
   ],
   "source": [
    "# Overview of data shape and composition\n",
    "stackO_US.shape"
   ]
  },
  {
   "cell_type": "markdown",
   "metadata": {},
   "source": [
    "## **YearsCode** \n",
    "\n",
    ">Including any education, how many years have you been coding in total?"
   ]
  },
  {
   "cell_type": "code",
   "execution_count": 8,
   "metadata": {},
   "outputs": [
    {
     "data": {
      "text/plain": [
       "array(['15', '17', '5', '7', '19', '9', '20', '3', '6', '25', '16', '36',\n",
       "       '8', '38', '2', '33', '21', '30', '10', '37', '13', '27', '11',\n",
       "       '35', '24', '50', '4', '23', '22', '18', '14', '44', '26', '12',\n",
       "       '42', '40', '31', '34', '43', '28', '32', '29', 'Less than 1 year',\n",
       "       'More than 50 years', '41', '1', nan, '39', '46', '47', '45', '49',\n",
       "       '48'], dtype=object)"
      ]
     },
     "execution_count": 8,
     "metadata": {},
     "output_type": "execute_result"
    }
   ],
   "source": [
    "#Check reponse options\n",
    "stackO_US['YearsCode'].unique()"
   ]
  },
  {
   "cell_type": "markdown",
   "metadata": {},
   "source": [
    "## **YearsCodePro** \n",
    "\n",
    ">NOT including education, how many years have you coded professionally (as a part of your work)?"
   ]
  },
  {
   "cell_type": "code",
   "execution_count": 9,
   "metadata": {},
   "outputs": [
    {
     "data": {
      "text/plain": [
       "array(['8', '13', '1', '3', '12', '20', nan, '10', '29', '4', '23', '14',\n",
       "       '15', '16', '7', '25', '2', '11', 'Less than 1 year', '5', '21',\n",
       "       '19', '35', '18', '6', '32', '28', '9', '22', '30', '38', '24',\n",
       "       '17', '31', 'More than 50 years', '33', '34', '26', '27', '36',\n",
       "       '40', '39', '37', '41', '45', '47', '42', '43', '44', '48', '46',\n",
       "       '49'], dtype=object)"
      ]
     },
     "execution_count": 9,
     "metadata": {},
     "output_type": "execute_result"
    }
   ],
   "source": [
    "#Check reponse options\n",
    "stackO_US['YearsCodePro'].unique()"
   ]
  },
  {
   "cell_type": "markdown",
   "metadata": {},
   "source": [
    ">## Quality problem\n",
    ">- (Q2) **`stackO_Us`** variables (i.e. columns) `YearsCode` and `YearsCodePro`  contain dtype=object, rather than numerical values.\n",
    "### Solution\n",
    "- Change string observations (i.e. pandas type 'object') of variable `YearsCode` to numerical.\n",
    "- Change string observations (i.e. pandas type 'object') of variable `YearsCodePro` to numerical."
   ]
  },
  {
   "cell_type": "code",
   "execution_count": 10,
   "metadata": {},
   "outputs": [
    {
     "name": "stdout",
     "output_type": "stream",
     "text": [
      "Years Code Less than 1 year:  94\n",
      "Years Code More than 50 year: 72\n",
      "Years Code Pro Less than 1 year:  407\n",
      "Years Code Pro More than 50 year: 20\n"
     ]
    }
   ],
   "source": [
    "yCodeless=stackO_US[stackO_US['YearsCode']=='Less than 1 year']\n",
    "yCodemore =stackO_US[stackO_US['YearsCode']=='More than 50 years']\n",
    "yCode_proLess=stackO_US[stackO_US['YearsCodePro']=='Less than 1 year']\n",
    "yCode_proMore=stackO_US[stackO_US['YearsCodePro']=='More than 50 years']\n",
    "\n",
    "print(f\"Years Code Less than 1 year:  {len(yCodeless)}\")\n",
    "print(f\"Years Code More than 50 year: {len(yCodemore)}\")\n",
    "print(f\"Years Code Pro Less than 1 year:  {len(yCode_proLess)}\")\n",
    "print(f\"Years Code Pro More than 50 year: {len(yCode_proMore)}\")"
   ]
  },
  {
   "cell_type": "code",
   "execution_count": 11,
   "metadata": {},
   "outputs": [
    {
     "name": "stdout",
     "output_type": "stream",
     "text": [
      "94\n",
      "72\n",
      "407\n",
      "20\n"
     ]
    }
   ],
   "source": [
    "#convert 'More than 50 years' to numeric value\n",
    "stackO_US= stackO_US.replace('More than 50 years','50.5')\n",
    "\n",
    "#convert 'Less than 1 year' to numeric value.\n",
    "stackO_US= stackO_US.replace('Less than 1 year','0.5')\n",
    "\n",
    "print(len(stackO_US[stackO_US['YearsCode']=='0.5']))\n",
    "print(len(stackO_US[stackO_US['YearsCode']=='50.5']))\n",
    "print(len(stackO_US[stackO_US['YearsCodePro']=='0.5']))\n",
    "print(len(stackO_US[stackO_US['YearsCodePro']=='50.5']))"
   ]
  },
  {
   "cell_type": "code",
   "execution_count": 12,
   "metadata": {},
   "outputs": [],
   "source": [
    "#convert columns to numeric\n",
    "stackO_US['YearsCode'] = pd.to_numeric(stackO_US['YearsCode'])\n",
    "stackO_US['YearsCodePro'] = pd.to_numeric(stackO_US['YearsCodePro'])\n",
    "#stackO_US.head()"
   ]
  },
  {
   "cell_type": "markdown",
   "metadata": {},
   "source": [
    "### Check: Data Type"
   ]
  },
  {
   "cell_type": "code",
   "execution_count": 13,
   "metadata": {},
   "outputs": [
    {
     "name": "stdout",
     "output_type": "stream",
     "text": [
      "<class 'pandas.core.frame.DataFrame'>\n",
      "Int64Index: 12469 entries, 4 to 64456\n",
      "Data columns (total 17 columns):\n",
      " #   Column                  Non-Null Count  Dtype  \n",
      "---  ------                  --------------  -----  \n",
      " 0   Respondent              12469 non-null  int64  \n",
      " 1   DevType                 10355 non-null  object \n",
      " 2   OpSys                   11409 non-null  object \n",
      " 3   YearsCode               11759 non-null  float64\n",
      " 4   YearsCodePro            9945 non-null   float64\n",
      " 5   Country                 12469 non-null  object \n",
      " 6   Hobbyist                12469 non-null  object \n",
      " 7   Age                     9619 non-null   float64\n",
      " 8   Gender                  10490 non-null  object \n",
      " 9   Ethnicity               10074 non-null  object \n",
      " 10  Employment              12417 non-null  object \n",
      " 11  EdLevel                 11732 non-null  object \n",
      " 12  UndergradMajor          10701 non-null  object \n",
      " 13  NEWEdImpt               10410 non-null  object \n",
      " 14  NEWLearn                11353 non-null  object \n",
      " 15  LanguageDesireNextYear  10891 non-null  object \n",
      " 16  LanguageWorkedWith      11633 non-null  object \n",
      "dtypes: float64(3), int64(1), object(13)\n",
      "memory usage: 1.7+ MB\n"
     ]
    }
   ],
   "source": [
    "stackO_US.info()"
   ]
  },
  {
   "cell_type": "code",
   "execution_count": 14,
   "metadata": {},
   "outputs": [
    {
     "data": {
      "text/plain": [
       "(12469, 17)"
      ]
     },
     "execution_count": 14,
     "metadata": {},
     "output_type": "execute_result"
    }
   ],
   "source": [
    "# Check number of rows & columns\n",
    "stackO_US.shape"
   ]
  },
  {
   "cell_type": "code",
   "execution_count": 15,
   "metadata": {},
   "outputs": [
    {
     "data": {
      "text/plain": [
       "YearsCode        710\n",
       "YearsCodePro    2524\n",
       "dtype: int64"
      ]
     },
     "execution_count": 15,
     "metadata": {},
     "output_type": "execute_result"
    }
   ],
   "source": [
    "# identify number of rows that do not specify years code\n",
    "nanValues=stackO_US[['YearsCode','YearsCodePro']].isna().sum()\n",
    "nanValues"
   ]
  },
  {
   "cell_type": "code",
   "execution_count": 16,
   "metadata": {},
   "outputs": [
    {
     "data": {
      "text/html": [
       "<div>\n",
       "<style scoped>\n",
       "    .dataframe tbody tr th:only-of-type {\n",
       "        vertical-align: middle;\n",
       "    }\n",
       "\n",
       "    .dataframe tbody tr th {\n",
       "        vertical-align: top;\n",
       "    }\n",
       "\n",
       "    .dataframe thead th {\n",
       "        text-align: right;\n",
       "    }\n",
       "</style>\n",
       "<table border=\"1\" class=\"dataframe\">\n",
       "  <thead>\n",
       "    <tr style=\"text-align: right;\">\n",
       "      <th></th>\n",
       "      <th>Respondent</th>\n",
       "      <th>DevType</th>\n",
       "      <th>OpSys</th>\n",
       "      <th>YearsCode</th>\n",
       "      <th>YearsCodePro</th>\n",
       "      <th>Country</th>\n",
       "      <th>Hobbyist</th>\n",
       "      <th>Age</th>\n",
       "      <th>Gender</th>\n",
       "      <th>Ethnicity</th>\n",
       "      <th>Employment</th>\n",
       "      <th>EdLevel</th>\n",
       "      <th>UndergradMajor</th>\n",
       "      <th>NEWEdImpt</th>\n",
       "      <th>NEWLearn</th>\n",
       "      <th>LanguageDesireNextYear</th>\n",
       "      <th>LanguageWorkedWith</th>\n",
       "    </tr>\n",
       "  </thead>\n",
       "  <tbody>\n",
       "    <tr>\n",
       "      <th>56574</th>\n",
       "      <td>57699</td>\n",
       "      <td>NaN</td>\n",
       "      <td>NaN</td>\n",
       "      <td>0.5</td>\n",
       "      <td>NaN</td>\n",
       "      <td>United States</td>\n",
       "      <td>Yes</td>\n",
       "      <td>12.0</td>\n",
       "      <td>Woman</td>\n",
       "      <td>NaN</td>\n",
       "      <td>Student</td>\n",
       "      <td>Primary/elementary school</td>\n",
       "      <td>NaN</td>\n",
       "      <td>NaN</td>\n",
       "      <td>NaN</td>\n",
       "      <td>Assembly;Bash/Shell/PowerShell;C;C#;C++;Dart;G...</td>\n",
       "      <td>NaN</td>\n",
       "    </tr>\n",
       "    <tr>\n",
       "      <th>62062</th>\n",
       "      <td>63358</td>\n",
       "      <td>NaN</td>\n",
       "      <td>NaN</td>\n",
       "      <td>0.5</td>\n",
       "      <td>NaN</td>\n",
       "      <td>United States</td>\n",
       "      <td>Yes</td>\n",
       "      <td>NaN</td>\n",
       "      <td>NaN</td>\n",
       "      <td>NaN</td>\n",
       "      <td>Employed full-time</td>\n",
       "      <td>Bachelor’s degree (B.A., B.S., B.Eng., etc.)</td>\n",
       "      <td>Another engineering discipline (such as civil,...</td>\n",
       "      <td>Very important</td>\n",
       "      <td>NaN</td>\n",
       "      <td>NaN</td>\n",
       "      <td>NaN</td>\n",
       "    </tr>\n",
       "    <tr>\n",
       "      <th>47502</th>\n",
       "      <td>48495</td>\n",
       "      <td>Scientist</td>\n",
       "      <td>Windows</td>\n",
       "      <td>0.5</td>\n",
       "      <td>NaN</td>\n",
       "      <td>United States</td>\n",
       "      <td>Yes</td>\n",
       "      <td>20.0</td>\n",
       "      <td>Man</td>\n",
       "      <td>White or of European descent</td>\n",
       "      <td>Independent contractor, freelancer, or self-em...</td>\n",
       "      <td>Primary/elementary school</td>\n",
       "      <td>NaN</td>\n",
       "      <td>Somewhat important</td>\n",
       "      <td>Once a decade</td>\n",
       "      <td>NaN</td>\n",
       "      <td>NaN</td>\n",
       "    </tr>\n",
       "    <tr>\n",
       "      <th>26588</th>\n",
       "      <td>26687</td>\n",
       "      <td>NaN</td>\n",
       "      <td>Windows</td>\n",
       "      <td>0.5</td>\n",
       "      <td>NaN</td>\n",
       "      <td>United States</td>\n",
       "      <td>Yes</td>\n",
       "      <td>NaN</td>\n",
       "      <td>Man</td>\n",
       "      <td>Middle Eastern</td>\n",
       "      <td>Not employed, and not looking for work</td>\n",
       "      <td>I never completed any formal education</td>\n",
       "      <td>NaN</td>\n",
       "      <td>NaN</td>\n",
       "      <td>NaN</td>\n",
       "      <td>JavaScript</td>\n",
       "      <td>NaN</td>\n",
       "    </tr>\n",
       "    <tr>\n",
       "      <th>53206</th>\n",
       "      <td>54294</td>\n",
       "      <td>NaN</td>\n",
       "      <td>Windows</td>\n",
       "      <td>0.5</td>\n",
       "      <td>NaN</td>\n",
       "      <td>United States</td>\n",
       "      <td>Yes</td>\n",
       "      <td>17.0</td>\n",
       "      <td>Man</td>\n",
       "      <td>Hispanic or Latino/a/x</td>\n",
       "      <td>Student</td>\n",
       "      <td>Secondary school (e.g. American high school, G...</td>\n",
       "      <td>NaN</td>\n",
       "      <td>NaN</td>\n",
       "      <td>NaN</td>\n",
       "      <td>C++;Go;HTML/CSS;JavaScript;PHP;TypeScript</td>\n",
       "      <td>HTML/CSS</td>\n",
       "    </tr>\n",
       "    <tr>\n",
       "      <th>...</th>\n",
       "      <td>...</td>\n",
       "      <td>...</td>\n",
       "      <td>...</td>\n",
       "      <td>...</td>\n",
       "      <td>...</td>\n",
       "      <td>...</td>\n",
       "      <td>...</td>\n",
       "      <td>...</td>\n",
       "      <td>...</td>\n",
       "      <td>...</td>\n",
       "      <td>...</td>\n",
       "      <td>...</td>\n",
       "      <td>...</td>\n",
       "      <td>...</td>\n",
       "      <td>...</td>\n",
       "      <td>...</td>\n",
       "      <td>...</td>\n",
       "    </tr>\n",
       "    <tr>\n",
       "      <th>64330</th>\n",
       "      <td>42314</td>\n",
       "      <td>NaN</td>\n",
       "      <td>NaN</td>\n",
       "      <td>NaN</td>\n",
       "      <td>NaN</td>\n",
       "      <td>United States</td>\n",
       "      <td>Yes</td>\n",
       "      <td>NaN</td>\n",
       "      <td>NaN</td>\n",
       "      <td>NaN</td>\n",
       "      <td>Independent contractor, freelancer, or self-em...</td>\n",
       "      <td>NaN</td>\n",
       "      <td>NaN</td>\n",
       "      <td>NaN</td>\n",
       "      <td>NaN</td>\n",
       "      <td>NaN</td>\n",
       "      <td>NaN</td>\n",
       "    </tr>\n",
       "    <tr>\n",
       "      <th>64340</th>\n",
       "      <td>43211</td>\n",
       "      <td>Data or business analyst;Data scientist or mac...</td>\n",
       "      <td>NaN</td>\n",
       "      <td>NaN</td>\n",
       "      <td>4.0</td>\n",
       "      <td>United States</td>\n",
       "      <td>Yes</td>\n",
       "      <td>NaN</td>\n",
       "      <td>NaN</td>\n",
       "      <td>NaN</td>\n",
       "      <td>Independent contractor, freelancer, or self-em...</td>\n",
       "      <td>NaN</td>\n",
       "      <td>NaN</td>\n",
       "      <td>NaN</td>\n",
       "      <td>NaN</td>\n",
       "      <td>NaN</td>\n",
       "      <td>NaN</td>\n",
       "    </tr>\n",
       "    <tr>\n",
       "      <th>64347</th>\n",
       "      <td>44176</td>\n",
       "      <td>NaN</td>\n",
       "      <td>NaN</td>\n",
       "      <td>NaN</td>\n",
       "      <td>NaN</td>\n",
       "      <td>United States</td>\n",
       "      <td>Yes</td>\n",
       "      <td>NaN</td>\n",
       "      <td>NaN</td>\n",
       "      <td>NaN</td>\n",
       "      <td>NaN</td>\n",
       "      <td>NaN</td>\n",
       "      <td>NaN</td>\n",
       "      <td>NaN</td>\n",
       "      <td>NaN</td>\n",
       "      <td>NaN</td>\n",
       "      <td>NaN</td>\n",
       "    </tr>\n",
       "    <tr>\n",
       "      <th>64352</th>\n",
       "      <td>45374</td>\n",
       "      <td>NaN</td>\n",
       "      <td>Windows</td>\n",
       "      <td>NaN</td>\n",
       "      <td>NaN</td>\n",
       "      <td>United States</td>\n",
       "      <td>Yes</td>\n",
       "      <td>NaN</td>\n",
       "      <td>NaN</td>\n",
       "      <td>NaN</td>\n",
       "      <td>Employed full-time</td>\n",
       "      <td>NaN</td>\n",
       "      <td>NaN</td>\n",
       "      <td>NaN</td>\n",
       "      <td>Once a year</td>\n",
       "      <td>Assembly;Bash/Shell/PowerShell;C;C#;C++;Dart;G...</td>\n",
       "      <td>Assembly;Bash/Shell/PowerShell;C;C#;C++;Dart;G...</td>\n",
       "    </tr>\n",
       "    <tr>\n",
       "      <th>64354</th>\n",
       "      <td>45440</td>\n",
       "      <td>NaN</td>\n",
       "      <td>NaN</td>\n",
       "      <td>NaN</td>\n",
       "      <td>NaN</td>\n",
       "      <td>United States</td>\n",
       "      <td>Yes</td>\n",
       "      <td>NaN</td>\n",
       "      <td>NaN</td>\n",
       "      <td>NaN</td>\n",
       "      <td>Retired</td>\n",
       "      <td>NaN</td>\n",
       "      <td>NaN</td>\n",
       "      <td>NaN</td>\n",
       "      <td>Once every few years</td>\n",
       "      <td>NaN</td>\n",
       "      <td>NaN</td>\n",
       "    </tr>\n",
       "  </tbody>\n",
       "</table>\n",
       "<p>12469 rows × 17 columns</p>\n",
       "</div>"
      ],
      "text/plain": [
       "       Respondent                                            DevType    OpSys  \\\n",
       "56574       57699                                                NaN      NaN   \n",
       "62062       63358                                                NaN      NaN   \n",
       "47502       48495                                          Scientist  Windows   \n",
       "26588       26687                                                NaN  Windows   \n",
       "53206       54294                                                NaN  Windows   \n",
       "...           ...                                                ...      ...   \n",
       "64330       42314                                                NaN      NaN   \n",
       "64340       43211  Data or business analyst;Data scientist or mac...      NaN   \n",
       "64347       44176                                                NaN      NaN   \n",
       "64352       45374                                                NaN  Windows   \n",
       "64354       45440                                                NaN      NaN   \n",
       "\n",
       "       YearsCode  YearsCodePro        Country Hobbyist   Age Gender  \\\n",
       "56574        0.5           NaN  United States      Yes  12.0  Woman   \n",
       "62062        0.5           NaN  United States      Yes   NaN    NaN   \n",
       "47502        0.5           NaN  United States      Yes  20.0    Man   \n",
       "26588        0.5           NaN  United States      Yes   NaN    Man   \n",
       "53206        0.5           NaN  United States      Yes  17.0    Man   \n",
       "...          ...           ...            ...      ...   ...    ...   \n",
       "64330        NaN           NaN  United States      Yes   NaN    NaN   \n",
       "64340        NaN           4.0  United States      Yes   NaN    NaN   \n",
       "64347        NaN           NaN  United States      Yes   NaN    NaN   \n",
       "64352        NaN           NaN  United States      Yes   NaN    NaN   \n",
       "64354        NaN           NaN  United States      Yes   NaN    NaN   \n",
       "\n",
       "                          Ethnicity  \\\n",
       "56574                           NaN   \n",
       "62062                           NaN   \n",
       "47502  White or of European descent   \n",
       "26588                Middle Eastern   \n",
       "53206        Hispanic or Latino/a/x   \n",
       "...                             ...   \n",
       "64330                           NaN   \n",
       "64340                           NaN   \n",
       "64347                           NaN   \n",
       "64352                           NaN   \n",
       "64354                           NaN   \n",
       "\n",
       "                                              Employment  \\\n",
       "56574                                            Student   \n",
       "62062                                 Employed full-time   \n",
       "47502  Independent contractor, freelancer, or self-em...   \n",
       "26588             Not employed, and not looking for work   \n",
       "53206                                            Student   \n",
       "...                                                  ...   \n",
       "64330  Independent contractor, freelancer, or self-em...   \n",
       "64340  Independent contractor, freelancer, or self-em...   \n",
       "64347                                                NaN   \n",
       "64352                                 Employed full-time   \n",
       "64354                                            Retired   \n",
       "\n",
       "                                                 EdLevel  \\\n",
       "56574                          Primary/elementary school   \n",
       "62062       Bachelor’s degree (B.A., B.S., B.Eng., etc.)   \n",
       "47502                          Primary/elementary school   \n",
       "26588             I never completed any formal education   \n",
       "53206  Secondary school (e.g. American high school, G...   \n",
       "...                                                  ...   \n",
       "64330                                                NaN   \n",
       "64340                                                NaN   \n",
       "64347                                                NaN   \n",
       "64352                                                NaN   \n",
       "64354                                                NaN   \n",
       "\n",
       "                                          UndergradMajor           NEWEdImpt  \\\n",
       "56574                                                NaN                 NaN   \n",
       "62062  Another engineering discipline (such as civil,...      Very important   \n",
       "47502                                                NaN  Somewhat important   \n",
       "26588                                                NaN                 NaN   \n",
       "53206                                                NaN                 NaN   \n",
       "...                                                  ...                 ...   \n",
       "64330                                                NaN                 NaN   \n",
       "64340                                                NaN                 NaN   \n",
       "64347                                                NaN                 NaN   \n",
       "64352                                                NaN                 NaN   \n",
       "64354                                                NaN                 NaN   \n",
       "\n",
       "                   NEWLearn  \\\n",
       "56574                   NaN   \n",
       "62062                   NaN   \n",
       "47502         Once a decade   \n",
       "26588                   NaN   \n",
       "53206                   NaN   \n",
       "...                     ...   \n",
       "64330                   NaN   \n",
       "64340                   NaN   \n",
       "64347                   NaN   \n",
       "64352           Once a year   \n",
       "64354  Once every few years   \n",
       "\n",
       "                                  LanguageDesireNextYear  \\\n",
       "56574  Assembly;Bash/Shell/PowerShell;C;C#;C++;Dart;G...   \n",
       "62062                                                NaN   \n",
       "47502                                                NaN   \n",
       "26588                                         JavaScript   \n",
       "53206          C++;Go;HTML/CSS;JavaScript;PHP;TypeScript   \n",
       "...                                                  ...   \n",
       "64330                                                NaN   \n",
       "64340                                                NaN   \n",
       "64347                                                NaN   \n",
       "64352  Assembly;Bash/Shell/PowerShell;C;C#;C++;Dart;G...   \n",
       "64354                                                NaN   \n",
       "\n",
       "                                      LanguageWorkedWith  \n",
       "56574                                                NaN  \n",
       "62062                                                NaN  \n",
       "47502                                                NaN  \n",
       "26588                                                NaN  \n",
       "53206                                           HTML/CSS  \n",
       "...                                                  ...  \n",
       "64330                                                NaN  \n",
       "64340                                                NaN  \n",
       "64347                                                NaN  \n",
       "64352  Assembly;Bash/Shell/PowerShell;C;C#;C++;Dart;G...  \n",
       "64354                                                NaN  \n",
       "\n",
       "[12469 rows x 17 columns]"
      ]
     },
     "execution_count": 16,
     "metadata": {},
     "output_type": "execute_result"
    }
   ],
   "source": [
    "df_US = stackO_US.sort_values(by ='YearsCode',ascending = True)\n",
    "df_US"
   ]
  },
  {
   "cell_type": "code",
   "execution_count": 17,
   "metadata": {},
   "outputs": [],
   "source": [
    "# Save and Export Cleaned File as CSV\n",
    "df_US.to_csv(\"data/df_US.csv\")"
   ]
  },
  {
   "cell_type": "code",
   "execution_count": 18,
   "metadata": {},
   "outputs": [
    {
     "data": {
      "text/html": [
       "<div>\n",
       "<style scoped>\n",
       "    .dataframe tbody tr th:only-of-type {\n",
       "        vertical-align: middle;\n",
       "    }\n",
       "\n",
       "    .dataframe tbody tr th {\n",
       "        vertical-align: top;\n",
       "    }\n",
       "\n",
       "    .dataframe thead th {\n",
       "        text-align: right;\n",
       "    }\n",
       "</style>\n",
       "<table border=\"1\" class=\"dataframe\">\n",
       "  <thead>\n",
       "    <tr style=\"text-align: right;\">\n",
       "      <th></th>\n",
       "      <th>Respondent</th>\n",
       "      <th>YearsCode</th>\n",
       "      <th>YearsCodePro</th>\n",
       "      <th>Age</th>\n",
       "    </tr>\n",
       "  </thead>\n",
       "  <tbody>\n",
       "    <tr>\n",
       "      <th>count</th>\n",
       "      <td>12469.000000</td>\n",
       "      <td>11759.000000</td>\n",
       "      <td>9945.000000</td>\n",
       "      <td>9619.000000</td>\n",
       "    </tr>\n",
       "    <tr>\n",
       "      <th>mean</th>\n",
       "      <td>29970.597803</td>\n",
       "      <td>15.671826</td>\n",
       "      <td>10.669130</td>\n",
       "      <td>33.667491</td>\n",
       "    </tr>\n",
       "    <tr>\n",
       "      <th>std</th>\n",
       "      <td>20286.973297</td>\n",
       "      <td>11.388854</td>\n",
       "      <td>9.490113</td>\n",
       "      <td>10.998300</td>\n",
       "    </tr>\n",
       "    <tr>\n",
       "      <th>min</th>\n",
       "      <td>5.000000</td>\n",
       "      <td>0.500000</td>\n",
       "      <td>0.500000</td>\n",
       "      <td>1.000000</td>\n",
       "    </tr>\n",
       "    <tr>\n",
       "      <th>25%</th>\n",
       "      <td>10372.000000</td>\n",
       "      <td>7.000000</td>\n",
       "      <td>3.000000</td>\n",
       "      <td>26.000000</td>\n",
       "    </tr>\n",
       "    <tr>\n",
       "      <th>50%</th>\n",
       "      <td>29802.000000</td>\n",
       "      <td>12.000000</td>\n",
       "      <td>7.000000</td>\n",
       "      <td>31.000000</td>\n",
       "    </tr>\n",
       "    <tr>\n",
       "      <th>75%</th>\n",
       "      <td>49323.000000</td>\n",
       "      <td>22.000000</td>\n",
       "      <td>15.000000</td>\n",
       "      <td>39.000000</td>\n",
       "    </tr>\n",
       "    <tr>\n",
       "      <th>max</th>\n",
       "      <td>65629.000000</td>\n",
       "      <td>50.500000</td>\n",
       "      <td>50.500000</td>\n",
       "      <td>99.000000</td>\n",
       "    </tr>\n",
       "  </tbody>\n",
       "</table>\n",
       "</div>"
      ],
      "text/plain": [
       "         Respondent     YearsCode  YearsCodePro          Age\n",
       "count  12469.000000  11759.000000   9945.000000  9619.000000\n",
       "mean   29970.597803     15.671826     10.669130    33.667491\n",
       "std    20286.973297     11.388854      9.490113    10.998300\n",
       "min        5.000000      0.500000      0.500000     1.000000\n",
       "25%    10372.000000      7.000000      3.000000    26.000000\n",
       "50%    29802.000000     12.000000      7.000000    31.000000\n",
       "75%    49323.000000     22.000000     15.000000    39.000000\n",
       "max    65629.000000     50.500000     50.500000    99.000000"
      ]
     },
     "execution_count": 18,
     "metadata": {},
     "output_type": "execute_result"
    }
   ],
   "source": [
    "# Displays the variables `Age` ,`YearsCode` and `YearsCodePro` are of type float now. \n",
    "df_US.describe()"
   ]
  },
  {
   "cell_type": "code",
   "execution_count": 19,
   "metadata": {},
   "outputs": [
    {
     "data": {
      "text/plain": [
       "(94, 17)"
      ]
     },
     "execution_count": 19,
     "metadata": {},
     "output_type": "execute_result"
    }
   ],
   "source": [
    "lessThan1yC = df_US[df_US['YearsCode'] == 0.5]\n",
    "lessThan1yC.shape"
   ]
  },
  {
   "cell_type": "markdown",
   "metadata": {},
   "source": [
    "## **YearsCode** \n",
    ">Q: Including any education, how many years have you been coding in total?"
   ]
  },
  {
   "cell_type": "markdown",
   "metadata": {},
   "source": [
    "## **YearsCodePro** \n",
    ">Q: NOT including education, how many years have you coded professionally (as a part of your work)?"
   ]
  },
  {
   "cell_type": "markdown",
   "metadata": {},
   "source": [
    "## **Distribution** \n",
    "\n",
    ">Plot histogram to look at the distribution of values and identify potential outliers in `YearsCode` and `YearsCodePro`"
   ]
  },
  {
   "cell_type": "code",
   "execution_count": 20,
   "metadata": {},
   "outputs": [
    {
     "data": {
      "text/plain": [
       "<matplotlib.axes._subplots.AxesSubplot at 0x7fb524f79290>"
      ]
     },
     "execution_count": 20,
     "metadata": {},
     "output_type": "execute_result"
    },
    {
     "data": {
      "image/png": "[encoded data removed]",
      "text/plain": [
       "<Figure size 1440x432 with 2 Axes>"
      ]
     },
     "metadata": {},
     "output_type": "display_data"
    }
   ],
   "source": [
    "fig, axes = plt.subplots(1, 2, sharex = False, sharey = False, figsize = (20,6))\n",
    "fig.suptitle(\"Total Years Coding & Coding Professionally\", fontsize = 20)\n",
    "axes[0].set_title('Years Code', fontsize = 14)\n",
    "axes[0].set_xlabel('Number of Years Coding', fontsize = 12)\n",
    "axes[0].set_ylabel('Count', fontsize = 12)\n",
    "axes[1].set_title('Years Code Pro', fontsize = 14)\n",
    "axes[1].set_xlabel('Number of Years Coding Professionally', fontsize = 12)\n",
    "axes[1].set_ylabel('Count', fontsize = 12)\n",
    "\n",
    "sns.histplot(ax = axes[0],data=df_US['YearsCode'])\n",
    "sns.histplot(ax = axes[1], data=df_US['YearsCodePro'])"
   ]
  },
  {
   "cell_type": "markdown",
   "metadata": {},
   "source": [
    "### Observation\n",
    "- `YearsCode`: A greater number of respondents have been coding for approximately 10 years.\n",
    "- `YearsCodePro`: A greater number of respondents have been professionally coding for less than 10 years."
   ]
  },
  {
   "cell_type": "markdown",
   "metadata": {},
   "source": [
    "### Take a closer look at the Data\n"
   ]
  },
  {
   "cell_type": "code",
   "execution_count": 21,
   "metadata": {
    "scrolled": false
   },
   "outputs": [
    {
     "data": {
      "text/plain": [
       "<matplotlib.axes._subplots.AxesSubplot at 0x7fb5265fe850>"
      ]
     },
     "execution_count": 21,
     "metadata": {},
     "output_type": "execute_result"
    },
    {
     "data": {
      "image/png": "[encoded data removed]",
      "text/plain": [
       "<Figure size 1440x576 with 1 Axes>"
      ]
     },
     "metadata": {},
     "output_type": "display_data"
    }
   ],
   "source": [
    "sns.set_style(\"whitegrid\")\n",
    "fig_dims = (20, 8)\n",
    "fig, ax = plt.subplots(figsize=fig_dims)\n",
    "sns.countplot(x = \"YearsCode\", ax=ax, data=df_US)"
   ]
  },
  {
   "cell_type": "code",
   "execution_count": 22,
   "metadata": {},
   "outputs": [
    {
     "data": {
      "image/png": "[encoded data removed]",
      "text/plain": [
       "<Figure size 432x216 with 1 Axes>"
      ]
     },
     "metadata": {},
     "output_type": "display_data"
    },
    {
     "name": "stdout",
     "output_type": "stream",
     "text": [
      "count    11759.000000\n",
      "mean        15.671826\n",
      "std         11.388854\n",
      "min          0.500000\n",
      "25%          7.000000\n",
      "50%         12.000000\n",
      "75%         22.000000\n",
      "max         50.500000\n",
      "Name: YearsCode, dtype: float64\n"
     ]
    }
   ],
   "source": [
    "sns.set(context='notebook', style='whitegrid', palette='bright', font='sans-serif', font_scale=1, rc=None)\n",
    "plt.figure(figsize=[6, 3])\n",
    "sns.boxplot(x = \"YearsCode\", data=df_US)\n",
    "plt.xticks(rotation=0, fontsize=14)\n",
    "plt.show()\n",
    "print(df_US.YearsCode.describe());"
   ]
  },
  {
   "cell_type": "markdown",
   "metadata": {},
   "source": [
    " </font><font color='blue'>\n",
    ">### The median coding experiance of the respondants in the 2020 survey is 10 years. \n",
    ">The Interquartile range (IQR) is 7 to 22 years. \n",
    "<br></font><font color='black'>   "
   ]
  },
  {
   "cell_type": "code",
   "execution_count": 23,
   "metadata": {
    "scrolled": true
   },
   "outputs": [
    {
     "data": {
      "text/plain": [
       "<matplotlib.axes._subplots.AxesSubplot at 0x7fb5267986d0>"
      ]
     },
     "execution_count": 23,
     "metadata": {},
     "output_type": "execute_result"
    },
    {
     "data": {
      "image/png": "[encoded data removed]",
      "text/plain": [
       "<Figure size 1440x576 with 1 Axes>"
      ]
     },
     "metadata": {},
     "output_type": "display_data"
    }
   ],
   "source": [
    "sns.set_style(\"whitegrid\")\n",
    "fig_dims = (20, 8)\n",
    "fig, ax = plt.subplots(figsize=fig_dims,)\n",
    "sns.countplot(x = \"YearsCodePro\", ax=ax, data=df_US)"
   ]
  },
  {
   "cell_type": "markdown",
   "metadata": {},
   "source": [
    "### Observation\n",
    "- `YearsCode`: More than 800 respondents have been coding for 10 years.\n",
    "- `YearsCodePro`: Over 800 of respondents have been professionally coding for 3 years."
   ]
  },
  {
   "cell_type": "code",
   "execution_count": 24,
   "metadata": {},
   "outputs": [
    {
     "data": {
      "image/png": "[encoded data removed]",
      "text/plain": [
       "<Figure size 432x216 with 1 Axes>"
      ]
     },
     "metadata": {},
     "output_type": "display_data"
    },
    {
     "name": "stdout",
     "output_type": "stream",
     "text": [
      "count    9945.000000\n",
      "mean       10.669130\n",
      "std         9.490113\n",
      "min         0.500000\n",
      "25%         3.000000\n",
      "50%         7.000000\n",
      "75%        15.000000\n",
      "max        50.500000\n",
      "Name: YearsCodePro, dtype: float64\n"
     ]
    }
   ],
   "source": [
    "sns.set(context='notebook', style='whitegrid', palette='bright', font='sans-serif', font_scale=1, rc=None)\n",
    "plt.figure(figsize=[6, 3])\n",
    "sns.boxplot(x = \"YearsCodePro\", data=df_US)\n",
    "plt.xticks(rotation=0, fontsize=14)\n",
    "plt.show()\n",
    "print(df_US.YearsCodePro.describe());"
   ]
  },
  {
   "cell_type": "markdown",
   "metadata": {},
   "source": [
    " </font><font color='blue'>\n",
    ">### The median professional coding experience of the respondants in the 2020 survey is 7 years.   \n",
    ">Interquartile range (IQR) is between 3 to 15 years. Very few developers have been coding professionally for more than 25 years.\n",
    "<br></font><font color='black'>"
   ]
  },
  {
   "cell_type": "code",
   "execution_count": 25,
   "metadata": {},
   "outputs": [
    {
     "data": {
      "text/plain": [
       "Respondent                  0\n",
       "DevType                     0\n",
       "OpSys                       0\n",
       "YearsCode                 849\n",
       "YearsCodePro              590\n",
       "Country                     0\n",
       "Hobbyist                    0\n",
       "Age                         0\n",
       "Gender                      0\n",
       "Ethnicity                   0\n",
       "Employment                  0\n",
       "EdLevel                     0\n",
       "UndergradMajor              0\n",
       "NEWEdImpt                   0\n",
       "NEWLearn                    0\n",
       "LanguageDesireNextYear      0\n",
       "LanguageWorkedWith          0\n",
       "dtype: int64"
      ]
     },
     "execution_count": 25,
     "metadata": {},
     "output_type": "execute_result"
    }
   ],
   "source": [
    "tenYear=df_US[df_US[['YearsCode','YearsCodePro']]== 10.0].count()\n",
    "tenYear"
   ]
  },
  {
   "cell_type": "code",
   "execution_count": 26,
   "metadata": {},
   "outputs": [
    {
     "data": {
      "text/plain": [
       "Respondent                  0\n",
       "DevType                     0\n",
       "OpSys                       0\n",
       "YearsCode                 453\n",
       "YearsCodePro              864\n",
       "Country                     0\n",
       "Hobbyist                    0\n",
       "Age                         0\n",
       "Gender                      0\n",
       "Ethnicity                   0\n",
       "Employment                  0\n",
       "EdLevel                     0\n",
       "UndergradMajor              0\n",
       "NEWEdImpt                   0\n",
       "NEWLearn                    0\n",
       "LanguageDesireNextYear      0\n",
       "LanguageWorkedWith          0\n",
       "dtype: int64"
      ]
     },
     "execution_count": 26,
     "metadata": {},
     "output_type": "execute_result"
    }
   ],
   "source": [
    "threeYear=df_US[df_US[['YearsCode','YearsCodePro']]== 3.0].count()\n",
    "threeYear"
   ]
  },
  {
   "cell_type": "markdown",
   "metadata": {},
   "source": [
    "## **Gender** \n",
    "\n",
    ">Which of the following describe you, if any? Please check all that apply. If you prefer not to answer, you may leave this question blank."
   ]
  },
  {
   "cell_type": "code",
   "execution_count": 27,
   "metadata": {},
   "outputs": [
    {
     "data": {
      "text/plain": [
       "array(['Man', 'Woman', nan,\n",
       "       'Man;Non-binary, genderqueer, or gender non-conforming',\n",
       "       'Non-binary, genderqueer, or gender non-conforming',\n",
       "       'Woman;Non-binary, genderqueer, or gender non-conforming',\n",
       "       'Woman;Man',\n",
       "       'Woman;Man;Non-binary, genderqueer, or gender non-conforming'],\n",
       "      dtype=object)"
      ]
     },
     "execution_count": 27,
     "metadata": {},
     "output_type": "execute_result"
    }
   ],
   "source": [
    "#Check reponse options\n",
    "stackO_US['Gender'].unique()"
   ]
  },
  {
   "cell_type": "code",
   "execution_count": 28,
   "metadata": {},
   "outputs": [
    {
     "name": "stdout",
     "output_type": "stream",
     "text": [
      "Nan:0\n",
      "Male:9176\n",
      "Female:1086\n",
      "Man:Non-Binary:42\n",
      "Woman:Non-Binary:46\n",
      "LGBTQ:131\n",
      "Woman:Man:6\n",
      "Woman:Man:Non-Binary:3\n",
      "Not Specified:1979\n"
     ]
    }
   ],
   "source": [
    "#Check the number of reponses for Gender\n",
    "\n",
    "nan = stackO_US[stackO_US['Gender']=='nan']\n",
    "male = stackO_US[stackO_US['Gender']=='Man']\n",
    "female = stackO_US[stackO_US['Gender']=='Woman']\n",
    "man = stackO_US[stackO_US['Gender']=='Man;Non-binary, genderqueer, or gender non-conforming']\n",
    "lgbtq = stackO_US[stackO_US['Gender']=='Non-binary, genderqueer, or gender non-conforming']\n",
    "woman = stackO_US[stackO_US['Gender']=='Woman;Non-binary, genderqueer, or gender non-conforming']\n",
    "wm = stackO_US[stackO_US['Gender']=='Woman;Man']\n",
    "wm_non = stackO_US[stackO_US['Gender']=='Woman;Man;Non-binary, genderqueer, or gender non-conforming']\n",
    "unspecified = stackO_US['Gender'].isna().sum()\n",
    "\n",
    "print(f\"Nan:{len(nan)}\")\n",
    "print(f\"Male:{len(male)}\")\n",
    "print(f\"Female:{len(female)}\")\n",
    "print(f\"Man:Non-Binary:{len(man)}\")\n",
    "print(f\"Woman:Non-Binary:{len(woman)}\")\n",
    "print(f\"LGBTQ:{len(lgbtq)}\")\n",
    "print(f\"Woman:Man:{len(wm)}\")\n",
    "print(f\"Woman:Man:Non-Binary:{len(wm_non)}\")\n",
    "print(f\"Not Specified:{(unspecified)}\")"
   ]
  },
  {
   "cell_type": "code",
   "execution_count": 29,
   "metadata": {},
   "outputs": [
    {
     "data": {
      "text/plain": [
       "[Text(0, 0, 'Woman'),\n",
       " Text(0, 0, 'Man'),\n",
       " Text(0, 0, 'Non-binary, genderqueer, or gender non-conforming'),\n",
       " Text(0, 0, 'Woman;Man;Non-binary, genderqueer, or gender non-conforming'),\n",
       " Text(0, 0, 'Man;Non-binary, genderqueer, or gender non-conforming'),\n",
       " Text(0, 0, 'Woman;Non-binary, genderqueer, or gender non-conforming'),\n",
       " Text(0, 0, 'Woman;Man')]"
      ]
     },
     "execution_count": 29,
     "metadata": {},
     "output_type": "execute_result"
    },
    {
     "data": {
      "image/png": "[encoded data removed]",
      "text/plain": [
       "<Figure size 432x288 with 1 Axes>"
      ]
     },
     "metadata": {},
     "output_type": "display_data"
    }
   ],
   "source": [
    "sns.set_style(\"whitegrid\")\n",
    "ax = sns.barplot(x='Gender',y='YearsCode',data=df_US )\n",
    "ax.set_xticklabels(ax.get_xticklabels(),rotation=30)"
   ]
  },
  {
   "cell_type": "code",
   "execution_count": 30,
   "metadata": {},
   "outputs": [
    {
     "data": {
      "text/plain": [
       "[Text(0, 0, 'Woman'),\n",
       " Text(0, 0, 'Man'),\n",
       " Text(0, 0, 'Non-binary, genderqueer, or gender non-conforming'),\n",
       " Text(0, 0, 'Woman;Man;Non-binary, genderqueer, or gender non-conforming'),\n",
       " Text(0, 0, 'Man;Non-binary, genderqueer, or gender non-conforming'),\n",
       " Text(0, 0, 'Woman;Non-binary, genderqueer, or gender non-conforming'),\n",
       " Text(0, 0, 'Woman;Man')]"
      ]
     },
     "execution_count": 30,
     "metadata": {},
     "output_type": "execute_result"
    },
    {
     "data": {
      "image/png": "[encoded data removed]",
      "text/plain": [
       "<Figure size 432x288 with 1 Axes>"
      ]
     },
     "metadata": {},
     "output_type": "display_data"
    }
   ],
   "source": [
    "sns.set_style(\"whitegrid\")\n",
    "ax1 = sns.barplot(x='Gender',y='YearsCodePro',data=df_US )\n",
    "ax1.set_xticklabels(ax.get_xticklabels(),rotation=30)"
   ]
  },
  {
   "cell_type": "code",
   "execution_count": null,
   "metadata": {},
   "outputs": [],
   "source": []
  }
 ],
 "metadata": {
  "kernelspec": {
   "display_name": "PythonData",
   "language": "python",
   "name": "pythondata"
  },
  "language_info": {
   "codemirror_mode": {
    "name": "ipython",
    "version": 3
   },
   "file_extension": ".py",
   "mimetype": "text/x-python",
   "name": "python",
   "nbconvert_exporter": "python",
   "pygments_lexer": "ipython3",
   "version": "3.7.7"
  }
 },
 "nbformat": 4,
 "nbformat_minor": 4
}
