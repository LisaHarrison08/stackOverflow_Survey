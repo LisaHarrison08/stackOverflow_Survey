{
 "cells": [
  {
   "cell_type": "markdown",
   "metadata": {},
   "source": [
    "## Stack Overflow Developer Survey 2020\n",
    "\n",
    "December 2011 Stack Overflow launched their first Annual User Survey to measure changes in user demographics and trends from the previous year. Stack Overflow have continued to reach out to the developer community to ask them a variety of questions, everything from their favorite technologies to their job preferences. The survey results are published and are available to view here: https://insights.stackoverflow.com/survey and includes questions with numerical answers (e.g. age, salary) and questions with categorical answers from multiple choice options ( \"choose one\" or \"choose all that apply\" ). \n",
    "\n",
    "In February 2020, almost 65,000 responses were collected from over 180 countries and dependent territories.  The survey asked respondents 61 questions (i.e., variables), including two questions regarding what programming languages users have done extensive development work in over the past year, and which languages they want to work in over the next year.  \n",
    "\n",
    "The aim of this project is to explore the data provided by Stack Overflows' developer community; analyse correlations between programming languages and between other frameworks, libraries, and tools (i.e., other technologies) users have done extensive development work in over the past year."
   ]
  },
  {
   "cell_type": "markdown",
   "metadata": {},
   "source": [
    "### **Load Libraries.** "
   ]
  },
  {
   "cell_type": "code",
   "execution_count": 1,
   "metadata": {},
   "outputs": [],
   "source": [
    "# Dependencies\n",
    "import pandas as pd\n",
    "import numpy as np\n",
    "import seaborn as sns\n",
    "import plotly.express as px\n",
    "import plotly.graph_objects as go\n",
    "import plotly.io as pio\n",
    "import matplotlib.pyplot as plt\n",
    "from plotly.subplots import make_subplots\n",
    "plt.style.use('ggplot')\n",
    "import datetime"
   ]
  },
  {
   "cell_type": "markdown",
   "metadata": {},
   "source": [
    "### **Gather Data.** "
   ]
  },
  {
   "cell_type": "code",
   "execution_count": 2,
   "metadata": {
    "scrolled": true
   },
   "outputs": [
    {
     "data": {
      "text/html": [
       "<div>\n",
       "<style scoped>\n",
       "    .dataframe tbody tr th:only-of-type {\n",
       "        vertical-align: middle;\n",
       "    }\n",
       "\n",
       "    .dataframe tbody tr th {\n",
       "        vertical-align: top;\n",
       "    }\n",
       "\n",
       "    .dataframe thead th {\n",
       "        text-align: right;\n",
       "    }\n",
       "</style>\n",
       "<table border=\"1\" class=\"dataframe\">\n",
       "  <thead>\n",
       "    <tr style=\"text-align: right;\">\n",
       "      <th></th>\n",
       "      <th>MainBranch</th>\n",
       "      <th>Hobbyist</th>\n",
       "      <th>Age</th>\n",
       "      <th>Age1stCode</th>\n",
       "      <th>CompFreq</th>\n",
       "      <th>CompTotal</th>\n",
       "      <th>ConvertedComp</th>\n",
       "      <th>Country</th>\n",
       "      <th>CurrencyDesc</th>\n",
       "      <th>CurrencySymbol</th>\n",
       "      <th>...</th>\n",
       "      <th>SurveyEase</th>\n",
       "      <th>SurveyLength</th>\n",
       "      <th>Trans</th>\n",
       "      <th>UndergradMajor</th>\n",
       "      <th>WebframeDesireNextYear</th>\n",
       "      <th>WebframeWorkedWith</th>\n",
       "      <th>WelcomeChange</th>\n",
       "      <th>WorkWeekHrs</th>\n",
       "      <th>YearsCode</th>\n",
       "      <th>YearsCodePro</th>\n",
       "    </tr>\n",
       "    <tr>\n",
       "      <th>Respondent</th>\n",
       "      <th></th>\n",
       "      <th></th>\n",
       "      <th></th>\n",
       "      <th></th>\n",
       "      <th></th>\n",
       "      <th></th>\n",
       "      <th></th>\n",
       "      <th></th>\n",
       "      <th></th>\n",
       "      <th></th>\n",
       "      <th></th>\n",
       "      <th></th>\n",
       "      <th></th>\n",
       "      <th></th>\n",
       "      <th></th>\n",
       "      <th></th>\n",
       "      <th></th>\n",
       "      <th></th>\n",
       "      <th></th>\n",
       "      <th></th>\n",
       "      <th></th>\n",
       "    </tr>\n",
       "  </thead>\n",
       "  <tbody>\n",
       "    <tr>\n",
       "      <th>1</th>\n",
       "      <td>I am a developer by profession</td>\n",
       "      <td>Yes</td>\n",
       "      <td>NaN</td>\n",
       "      <td>13</td>\n",
       "      <td>Monthly</td>\n",
       "      <td>NaN</td>\n",
       "      <td>NaN</td>\n",
       "      <td>Germany</td>\n",
       "      <td>European Euro</td>\n",
       "      <td>EUR</td>\n",
       "      <td>...</td>\n",
       "      <td>Neither easy nor difficult</td>\n",
       "      <td>Appropriate in length</td>\n",
       "      <td>No</td>\n",
       "      <td>Computer science, computer engineering, or sof...</td>\n",
       "      <td>ASP.NET Core</td>\n",
       "      <td>ASP.NET;ASP.NET Core</td>\n",
       "      <td>Just as welcome now as I felt last year</td>\n",
       "      <td>50.0</td>\n",
       "      <td>36</td>\n",
       "      <td>27</td>\n",
       "    </tr>\n",
       "    <tr>\n",
       "      <th>2</th>\n",
       "      <td>I am a developer by profession</td>\n",
       "      <td>No</td>\n",
       "      <td>NaN</td>\n",
       "      <td>19</td>\n",
       "      <td>NaN</td>\n",
       "      <td>NaN</td>\n",
       "      <td>NaN</td>\n",
       "      <td>United Kingdom</td>\n",
       "      <td>Pound sterling</td>\n",
       "      <td>GBP</td>\n",
       "      <td>...</td>\n",
       "      <td>NaN</td>\n",
       "      <td>NaN</td>\n",
       "      <td>NaN</td>\n",
       "      <td>Computer science, computer engineering, or sof...</td>\n",
       "      <td>NaN</td>\n",
       "      <td>NaN</td>\n",
       "      <td>Somewhat more welcome now than last year</td>\n",
       "      <td>NaN</td>\n",
       "      <td>7</td>\n",
       "      <td>4</td>\n",
       "    </tr>\n",
       "    <tr>\n",
       "      <th>3</th>\n",
       "      <td>I code primarily as a hobby</td>\n",
       "      <td>Yes</td>\n",
       "      <td>NaN</td>\n",
       "      <td>15</td>\n",
       "      <td>NaN</td>\n",
       "      <td>NaN</td>\n",
       "      <td>NaN</td>\n",
       "      <td>Russian Federation</td>\n",
       "      <td>NaN</td>\n",
       "      <td>NaN</td>\n",
       "      <td>...</td>\n",
       "      <td>Neither easy nor difficult</td>\n",
       "      <td>Appropriate in length</td>\n",
       "      <td>NaN</td>\n",
       "      <td>NaN</td>\n",
       "      <td>NaN</td>\n",
       "      <td>NaN</td>\n",
       "      <td>Somewhat more welcome now than last year</td>\n",
       "      <td>NaN</td>\n",
       "      <td>4</td>\n",
       "      <td>NaN</td>\n",
       "    </tr>\n",
       "    <tr>\n",
       "      <th>4</th>\n",
       "      <td>I am a developer by profession</td>\n",
       "      <td>Yes</td>\n",
       "      <td>25.0</td>\n",
       "      <td>18</td>\n",
       "      <td>NaN</td>\n",
       "      <td>NaN</td>\n",
       "      <td>NaN</td>\n",
       "      <td>Albania</td>\n",
       "      <td>Albanian lek</td>\n",
       "      <td>ALL</td>\n",
       "      <td>...</td>\n",
       "      <td>NaN</td>\n",
       "      <td>NaN</td>\n",
       "      <td>No</td>\n",
       "      <td>Computer science, computer engineering, or sof...</td>\n",
       "      <td>NaN</td>\n",
       "      <td>NaN</td>\n",
       "      <td>Somewhat less welcome now than last year</td>\n",
       "      <td>40.0</td>\n",
       "      <td>7</td>\n",
       "      <td>4</td>\n",
       "    </tr>\n",
       "    <tr>\n",
       "      <th>5</th>\n",
       "      <td>I used to be a developer by profession, but no...</td>\n",
       "      <td>Yes</td>\n",
       "      <td>31.0</td>\n",
       "      <td>16</td>\n",
       "      <td>NaN</td>\n",
       "      <td>NaN</td>\n",
       "      <td>NaN</td>\n",
       "      <td>United States</td>\n",
       "      <td>NaN</td>\n",
       "      <td>NaN</td>\n",
       "      <td>...</td>\n",
       "      <td>Easy</td>\n",
       "      <td>Too short</td>\n",
       "      <td>No</td>\n",
       "      <td>Computer science, computer engineering, or sof...</td>\n",
       "      <td>Django;Ruby on Rails</td>\n",
       "      <td>Ruby on Rails</td>\n",
       "      <td>Just as welcome now as I felt last year</td>\n",
       "      <td>NaN</td>\n",
       "      <td>15</td>\n",
       "      <td>8</td>\n",
       "    </tr>\n",
       "  </tbody>\n",
       "</table>\n",
       "<p>5 rows × 60 columns</p>\n",
       "</div>"
      ],
      "text/plain": [
       "                                                   MainBranch Hobbyist   Age  \\\n",
       "Respondent                                                                     \n",
       "1                              I am a developer by profession      Yes   NaN   \n",
       "2                              I am a developer by profession       No   NaN   \n",
       "3                                 I code primarily as a hobby      Yes   NaN   \n",
       "4                              I am a developer by profession      Yes  25.0   \n",
       "5           I used to be a developer by profession, but no...      Yes  31.0   \n",
       "\n",
       "           Age1stCode CompFreq  CompTotal  ConvertedComp             Country  \\\n",
       "Respondent                                                                     \n",
       "1                  13  Monthly        NaN            NaN             Germany   \n",
       "2                  19      NaN        NaN            NaN      United Kingdom   \n",
       "3                  15      NaN        NaN            NaN  Russian Federation   \n",
       "4                  18      NaN        NaN            NaN             Albania   \n",
       "5                  16      NaN        NaN            NaN       United States   \n",
       "\n",
       "              CurrencyDesc CurrencySymbol  ...                  SurveyEase  \\\n",
       "Respondent                                 ...                               \n",
       "1            European Euro            EUR  ...  Neither easy nor difficult   \n",
       "2           Pound sterling            GBP  ...                         NaN   \n",
       "3                      NaN            NaN  ...  Neither easy nor difficult   \n",
       "4             Albanian lek            ALL  ...                         NaN   \n",
       "5                      NaN            NaN  ...                        Easy   \n",
       "\n",
       "                     SurveyLength Trans  \\\n",
       "Respondent                                \n",
       "1           Appropriate in length    No   \n",
       "2                             NaN   NaN   \n",
       "3           Appropriate in length   NaN   \n",
       "4                             NaN    No   \n",
       "5                       Too short    No   \n",
       "\n",
       "                                               UndergradMajor  \\\n",
       "Respondent                                                      \n",
       "1           Computer science, computer engineering, or sof...   \n",
       "2           Computer science, computer engineering, or sof...   \n",
       "3                                                         NaN   \n",
       "4           Computer science, computer engineering, or sof...   \n",
       "5           Computer science, computer engineering, or sof...   \n",
       "\n",
       "           WebframeDesireNextYear    WebframeWorkedWith  \\\n",
       "Respondent                                                \n",
       "1                    ASP.NET Core  ASP.NET;ASP.NET Core   \n",
       "2                             NaN                   NaN   \n",
       "3                             NaN                   NaN   \n",
       "4                             NaN                   NaN   \n",
       "5            Django;Ruby on Rails         Ruby on Rails   \n",
       "\n",
       "                                       WelcomeChange WorkWeekHrs YearsCode  \\\n",
       "Respondent                                                                   \n",
       "1            Just as welcome now as I felt last year        50.0        36   \n",
       "2           Somewhat more welcome now than last year         NaN         7   \n",
       "3           Somewhat more welcome now than last year         NaN         4   \n",
       "4           Somewhat less welcome now than last year        40.0         7   \n",
       "5            Just as welcome now as I felt last year         NaN        15   \n",
       "\n",
       "           YearsCodePro  \n",
       "Respondent               \n",
       "1                    27  \n",
       "2                     4  \n",
       "3                   NaN  \n",
       "4                     4  \n",
       "5                     8  \n",
       "\n",
       "[5 rows x 60 columns]"
      ]
     },
     "execution_count": 2,
     "metadata": {},
     "output_type": "execute_result"
    }
   ],
   "source": [
    "# Read csv file and specify the parameters: set the index column as respondent\n",
    "sOverflow = pd.read_csv(\"data/survey_2020.csv\", index_col='Respondent')\n",
    "sOverflow.head()"
   ]
  },
  {
   "cell_type": "code",
   "execution_count": 3,
   "metadata": {},
   "outputs": [
    {
     "data": {
      "text/plain": [
       "(64461, 60)"
      ]
     },
     "execution_count": 3,
     "metadata": {},
     "output_type": "execute_result"
    }
   ],
   "source": [
    "#Check number of rows & columns\n",
    "sOverflow.shape"
   ]
  },
  {
   "cell_type": "code",
   "execution_count": 4,
   "metadata": {
    "scrolled": false
   },
   "outputs": [
    {
     "data": {
      "text/html": [
       "<div>\n",
       "<style scoped>\n",
       "    .dataframe tbody tr th:only-of-type {\n",
       "        vertical-align: middle;\n",
       "    }\n",
       "\n",
       "    .dataframe tbody tr th {\n",
       "        vertical-align: top;\n",
       "    }\n",
       "\n",
       "    .dataframe thead th {\n",
       "        text-align: right;\n",
       "    }\n",
       "</style>\n",
       "<table border=\"1\" class=\"dataframe\">\n",
       "  <thead>\n",
       "    <tr style=\"text-align: right;\">\n",
       "      <th></th>\n",
       "      <th>DevType</th>\n",
       "      <th>OpSys</th>\n",
       "      <th>YearsCode</th>\n",
       "      <th>YearsCodePro</th>\n",
       "      <th>Country</th>\n",
       "      <th>Hobbyist</th>\n",
       "      <th>Age</th>\n",
       "      <th>Gender</th>\n",
       "      <th>Ethnicity</th>\n",
       "      <th>Employment</th>\n",
       "      <th>EdLevel</th>\n",
       "      <th>UndergradMajor</th>\n",
       "      <th>NEWEdImpt</th>\n",
       "      <th>NEWLearn</th>\n",
       "      <th>LanguageDesireNextYear</th>\n",
       "      <th>LanguageWorkedWith</th>\n",
       "    </tr>\n",
       "    <tr>\n",
       "      <th>Respondent</th>\n",
       "      <th></th>\n",
       "      <th></th>\n",
       "      <th></th>\n",
       "      <th></th>\n",
       "      <th></th>\n",
       "      <th></th>\n",
       "      <th></th>\n",
       "      <th></th>\n",
       "      <th></th>\n",
       "      <th></th>\n",
       "      <th></th>\n",
       "      <th></th>\n",
       "      <th></th>\n",
       "      <th></th>\n",
       "      <th></th>\n",
       "      <th></th>\n",
       "    </tr>\n",
       "  </thead>\n",
       "  <tbody>\n",
       "    <tr>\n",
       "      <th>1</th>\n",
       "      <td>Developer, desktop or enterprise applications;...</td>\n",
       "      <td>Windows</td>\n",
       "      <td>36</td>\n",
       "      <td>27</td>\n",
       "      <td>Germany</td>\n",
       "      <td>Yes</td>\n",
       "      <td>NaN</td>\n",
       "      <td>Man</td>\n",
       "      <td>White or of European descent</td>\n",
       "      <td>Independent contractor, freelancer, or self-em...</td>\n",
       "      <td>Master’s degree (M.A., M.S., M.Eng., MBA, etc.)</td>\n",
       "      <td>Computer science, computer engineering, or sof...</td>\n",
       "      <td>Fairly important</td>\n",
       "      <td>Once a year</td>\n",
       "      <td>C#;HTML/CSS;JavaScript</td>\n",
       "      <td>C#;HTML/CSS;JavaScript</td>\n",
       "    </tr>\n",
       "    <tr>\n",
       "      <th>2</th>\n",
       "      <td>Developer, full-stack;Developer, mobile</td>\n",
       "      <td>MacOS</td>\n",
       "      <td>7</td>\n",
       "      <td>4</td>\n",
       "      <td>United Kingdom</td>\n",
       "      <td>No</td>\n",
       "      <td>NaN</td>\n",
       "      <td>NaN</td>\n",
       "      <td>NaN</td>\n",
       "      <td>Employed full-time</td>\n",
       "      <td>Bachelor’s degree (B.A., B.S., B.Eng., etc.)</td>\n",
       "      <td>Computer science, computer engineering, or sof...</td>\n",
       "      <td>Fairly important</td>\n",
       "      <td>Once a year</td>\n",
       "      <td>Python;Swift</td>\n",
       "      <td>JavaScript;Swift</td>\n",
       "    </tr>\n",
       "    <tr>\n",
       "      <th>3</th>\n",
       "      <td>NaN</td>\n",
       "      <td>Linux-based</td>\n",
       "      <td>4</td>\n",
       "      <td>NaN</td>\n",
       "      <td>Russian Federation</td>\n",
       "      <td>Yes</td>\n",
       "      <td>NaN</td>\n",
       "      <td>NaN</td>\n",
       "      <td>NaN</td>\n",
       "      <td>NaN</td>\n",
       "      <td>NaN</td>\n",
       "      <td>NaN</td>\n",
       "      <td>NaN</td>\n",
       "      <td>Once a decade</td>\n",
       "      <td>Objective-C;Python;Swift</td>\n",
       "      <td>Objective-C;Python;Swift</td>\n",
       "    </tr>\n",
       "    <tr>\n",
       "      <th>4</th>\n",
       "      <td>NaN</td>\n",
       "      <td>Linux-based</td>\n",
       "      <td>7</td>\n",
       "      <td>4</td>\n",
       "      <td>Albania</td>\n",
       "      <td>Yes</td>\n",
       "      <td>25.0</td>\n",
       "      <td>Man</td>\n",
       "      <td>White or of European descent</td>\n",
       "      <td>NaN</td>\n",
       "      <td>Master’s degree (M.A., M.S., M.Eng., MBA, etc.)</td>\n",
       "      <td>Computer science, computer engineering, or sof...</td>\n",
       "      <td>Not at all important/not necessary</td>\n",
       "      <td>Once a year</td>\n",
       "      <td>NaN</td>\n",
       "      <td>NaN</td>\n",
       "    </tr>\n",
       "    <tr>\n",
       "      <th>5</th>\n",
       "      <td>NaN</td>\n",
       "      <td>Windows</td>\n",
       "      <td>15</td>\n",
       "      <td>8</td>\n",
       "      <td>United States</td>\n",
       "      <td>Yes</td>\n",
       "      <td>31.0</td>\n",
       "      <td>Man</td>\n",
       "      <td>White or of European descent</td>\n",
       "      <td>Employed full-time</td>\n",
       "      <td>Bachelor’s degree (B.A., B.S., B.Eng., etc.)</td>\n",
       "      <td>Computer science, computer engineering, or sof...</td>\n",
       "      <td>Very important</td>\n",
       "      <td>Once a year</td>\n",
       "      <td>Java;Ruby;Scala</td>\n",
       "      <td>HTML/CSS;Ruby;SQL</td>\n",
       "    </tr>\n",
       "  </tbody>\n",
       "</table>\n",
       "</div>"
      ],
      "text/plain": [
       "                                                      DevType        OpSys  \\\n",
       "Respondent                                                                   \n",
       "1           Developer, desktop or enterprise applications;...      Windows   \n",
       "2                     Developer, full-stack;Developer, mobile        MacOS   \n",
       "3                                                         NaN  Linux-based   \n",
       "4                                                         NaN  Linux-based   \n",
       "5                                                         NaN      Windows   \n",
       "\n",
       "           YearsCode YearsCodePro             Country Hobbyist   Age Gender  \\\n",
       "Respondent                                                                    \n",
       "1                 36           27             Germany      Yes   NaN    Man   \n",
       "2                  7            4      United Kingdom       No   NaN    NaN   \n",
       "3                  4          NaN  Russian Federation      Yes   NaN    NaN   \n",
       "4                  7            4             Albania      Yes  25.0    Man   \n",
       "5                 15            8       United States      Yes  31.0    Man   \n",
       "\n",
       "                               Ethnicity  \\\n",
       "Respondent                                 \n",
       "1           White or of European descent   \n",
       "2                                    NaN   \n",
       "3                                    NaN   \n",
       "4           White or of European descent   \n",
       "5           White or of European descent   \n",
       "\n",
       "                                                   Employment  \\\n",
       "Respondent                                                      \n",
       "1           Independent contractor, freelancer, or self-em...   \n",
       "2                                          Employed full-time   \n",
       "3                                                         NaN   \n",
       "4                                                         NaN   \n",
       "5                                          Employed full-time   \n",
       "\n",
       "                                                    EdLevel  \\\n",
       "Respondent                                                    \n",
       "1           Master’s degree (M.A., M.S., M.Eng., MBA, etc.)   \n",
       "2              Bachelor’s degree (B.A., B.S., B.Eng., etc.)   \n",
       "3                                                       NaN   \n",
       "4           Master’s degree (M.A., M.S., M.Eng., MBA, etc.)   \n",
       "5              Bachelor’s degree (B.A., B.S., B.Eng., etc.)   \n",
       "\n",
       "                                               UndergradMajor  \\\n",
       "Respondent                                                      \n",
       "1           Computer science, computer engineering, or sof...   \n",
       "2           Computer science, computer engineering, or sof...   \n",
       "3                                                         NaN   \n",
       "4           Computer science, computer engineering, or sof...   \n",
       "5           Computer science, computer engineering, or sof...   \n",
       "\n",
       "                                     NEWEdImpt       NEWLearn  \\\n",
       "Respondent                                                      \n",
       "1                             Fairly important    Once a year   \n",
       "2                             Fairly important    Once a year   \n",
       "3                                          NaN  Once a decade   \n",
       "4           Not at all important/not necessary    Once a year   \n",
       "5                               Very important    Once a year   \n",
       "\n",
       "              LanguageDesireNextYear        LanguageWorkedWith  \n",
       "Respondent                                                      \n",
       "1             C#;HTML/CSS;JavaScript    C#;HTML/CSS;JavaScript  \n",
       "2                       Python;Swift          JavaScript;Swift  \n",
       "3           Objective-C;Python;Swift  Objective-C;Python;Swift  \n",
       "4                                NaN                       NaN  \n",
       "5                    Java;Ruby;Scala         HTML/CSS;Ruby;SQL  "
      ]
     },
     "execution_count": 4,
     "metadata": {},
     "output_type": "execute_result"
    }
   ],
   "source": [
    "#Filter data\n",
    "stackO = sOverflow[['DevType','OpSys','YearsCode','YearsCodePro','Country',\n",
    "                    'Hobbyist','Age','Gender','Ethnicity','Employment',\n",
    "                    'EdLevel','UndergradMajor','NEWEdImpt','NEWLearn',\n",
    "                    'LanguageDesireNextYear','LanguageWorkedWith']]\n",
    "stackO.head()\n",
    "#64461 rows × 16 columns"
   ]
  },
  {
   "cell_type": "markdown",
   "metadata": {},
   "source": [
    "## **Data Filtering: Selected a smaller part the data set to use for viewing and analysis.** \n",
    "\n",
    ">Subset: StackOverflow Survey Results for the U.S"
   ]
  },
  {
   "cell_type": "code",
   "execution_count": 5,
   "metadata": {
    "scrolled": true
   },
   "outputs": [
    {
     "data": {
      "text/html": [
       "<div>\n",
       "<style scoped>\n",
       "    .dataframe tbody tr th:only-of-type {\n",
       "        vertical-align: middle;\n",
       "    }\n",
       "\n",
       "    .dataframe tbody tr th {\n",
       "        vertical-align: top;\n",
       "    }\n",
       "\n",
       "    .dataframe thead th {\n",
       "        text-align: right;\n",
       "    }\n",
       "</style>\n",
       "<table border=\"1\" class=\"dataframe\">\n",
       "  <thead>\n",
       "    <tr style=\"text-align: right;\">\n",
       "      <th></th>\n",
       "      <th>DevType</th>\n",
       "      <th>OpSys</th>\n",
       "      <th>YearsCode</th>\n",
       "      <th>YearsCodePro</th>\n",
       "      <th>Country</th>\n",
       "      <th>Hobbyist</th>\n",
       "      <th>Age</th>\n",
       "      <th>Gender</th>\n",
       "      <th>Ethnicity</th>\n",
       "      <th>Employment</th>\n",
       "      <th>EdLevel</th>\n",
       "      <th>UndergradMajor</th>\n",
       "      <th>NEWEdImpt</th>\n",
       "      <th>NEWLearn</th>\n",
       "      <th>LanguageDesireNextYear</th>\n",
       "      <th>LanguageWorkedWith</th>\n",
       "    </tr>\n",
       "    <tr>\n",
       "      <th>Respondent</th>\n",
       "      <th></th>\n",
       "      <th></th>\n",
       "      <th></th>\n",
       "      <th></th>\n",
       "      <th></th>\n",
       "      <th></th>\n",
       "      <th></th>\n",
       "      <th></th>\n",
       "      <th></th>\n",
       "      <th></th>\n",
       "      <th></th>\n",
       "      <th></th>\n",
       "      <th></th>\n",
       "      <th></th>\n",
       "      <th></th>\n",
       "      <th></th>\n",
       "    </tr>\n",
       "  </thead>\n",
       "  <tbody>\n",
       "    <tr>\n",
       "      <th>5</th>\n",
       "      <td>NaN</td>\n",
       "      <td>Windows</td>\n",
       "      <td>15</td>\n",
       "      <td>8</td>\n",
       "      <td>United States</td>\n",
       "      <td>Yes</td>\n",
       "      <td>31.0</td>\n",
       "      <td>Man</td>\n",
       "      <td>White or of European descent</td>\n",
       "      <td>Employed full-time</td>\n",
       "      <td>Bachelor’s degree (B.A., B.S., B.Eng., etc.)</td>\n",
       "      <td>Computer science, computer engineering, or sof...</td>\n",
       "      <td>Very important</td>\n",
       "      <td>Once a year</td>\n",
       "      <td>Java;Ruby;Scala</td>\n",
       "      <td>HTML/CSS;Ruby;SQL</td>\n",
       "    </tr>\n",
       "    <tr>\n",
       "      <th>8</th>\n",
       "      <td>Developer, back-end;Developer, desktop or ente...</td>\n",
       "      <td>Linux-based</td>\n",
       "      <td>17</td>\n",
       "      <td>13</td>\n",
       "      <td>United States</td>\n",
       "      <td>Yes</td>\n",
       "      <td>36.0</td>\n",
       "      <td>Man</td>\n",
       "      <td>White or of European descent</td>\n",
       "      <td>Employed full-time</td>\n",
       "      <td>Bachelor’s degree (B.A., B.S., B.Eng., etc.)</td>\n",
       "      <td>Computer science, computer engineering, or sof...</td>\n",
       "      <td>Not at all important/not necessary</td>\n",
       "      <td>Once a year</td>\n",
       "      <td>JavaScript</td>\n",
       "      <td>Python;SQL</td>\n",
       "    </tr>\n",
       "    <tr>\n",
       "      <th>14</th>\n",
       "      <td>Developer, desktop or enterprise applications;...</td>\n",
       "      <td>Windows</td>\n",
       "      <td>5</td>\n",
       "      <td>1</td>\n",
       "      <td>United States</td>\n",
       "      <td>Yes</td>\n",
       "      <td>27.0</td>\n",
       "      <td>Man</td>\n",
       "      <td>White or of European descent</td>\n",
       "      <td>Employed full-time</td>\n",
       "      <td>Associate degree (A.A., A.S., etc.)</td>\n",
       "      <td>Computer science, computer engineering, or sof...</td>\n",
       "      <td>Somewhat important</td>\n",
       "      <td>Every few months</td>\n",
       "      <td>HTML/CSS;JavaScript;SQL;TypeScript</td>\n",
       "      <td>HTML/CSS;JavaScript;SQL;TypeScript</td>\n",
       "    </tr>\n",
       "    <tr>\n",
       "      <th>17</th>\n",
       "      <td>Developer, full-stack</td>\n",
       "      <td>Windows</td>\n",
       "      <td>7</td>\n",
       "      <td>3</td>\n",
       "      <td>United States</td>\n",
       "      <td>Yes</td>\n",
       "      <td>25.0</td>\n",
       "      <td>Man</td>\n",
       "      <td>White or of European descent</td>\n",
       "      <td>Employed full-time</td>\n",
       "      <td>Bachelor’s degree (B.A., B.S., B.Eng., etc.)</td>\n",
       "      <td>Computer science, computer engineering, or sof...</td>\n",
       "      <td>Fairly important</td>\n",
       "      <td>Once a year</td>\n",
       "      <td>C#;Go;Haskell;HTML/CSS;JavaScript;Python;Ruby;...</td>\n",
       "      <td>C#;HTML/CSS;JavaScript;Python;SQL;VBA</td>\n",
       "    </tr>\n",
       "    <tr>\n",
       "      <th>18</th>\n",
       "      <td>Developer, back-end</td>\n",
       "      <td>Linux-based</td>\n",
       "      <td>19</td>\n",
       "      <td>12</td>\n",
       "      <td>United States</td>\n",
       "      <td>Yes</td>\n",
       "      <td>32.0</td>\n",
       "      <td>Man</td>\n",
       "      <td>White or of European descent</td>\n",
       "      <td>Employed full-time</td>\n",
       "      <td>Bachelor’s degree (B.A., B.S., B.Eng., etc.)</td>\n",
       "      <td>Computer science, computer engineering, or sof...</td>\n",
       "      <td>Very important</td>\n",
       "      <td>Once every few years</td>\n",
       "      <td>HTML/CSS;Perl</td>\n",
       "      <td>Bash/Shell/PowerShell;HTML/CSS;Perl</td>\n",
       "    </tr>\n",
       "  </tbody>\n",
       "</table>\n",
       "</div>"
      ],
      "text/plain": [
       "                                                      DevType        OpSys  \\\n",
       "Respondent                                                                   \n",
       "5                                                         NaN      Windows   \n",
       "8           Developer, back-end;Developer, desktop or ente...  Linux-based   \n",
       "14          Developer, desktop or enterprise applications;...      Windows   \n",
       "17                                      Developer, full-stack      Windows   \n",
       "18                                        Developer, back-end  Linux-based   \n",
       "\n",
       "           YearsCode YearsCodePro        Country Hobbyist   Age Gender  \\\n",
       "Respondent                                                               \n",
       "5                 15            8  United States      Yes  31.0    Man   \n",
       "8                 17           13  United States      Yes  36.0    Man   \n",
       "14                 5            1  United States      Yes  27.0    Man   \n",
       "17                 7            3  United States      Yes  25.0    Man   \n",
       "18                19           12  United States      Yes  32.0    Man   \n",
       "\n",
       "                               Ethnicity          Employment  \\\n",
       "Respondent                                                     \n",
       "5           White or of European descent  Employed full-time   \n",
       "8           White or of European descent  Employed full-time   \n",
       "14          White or of European descent  Employed full-time   \n",
       "17          White or of European descent  Employed full-time   \n",
       "18          White or of European descent  Employed full-time   \n",
       "\n",
       "                                                 EdLevel  \\\n",
       "Respondent                                                 \n",
       "5           Bachelor’s degree (B.A., B.S., B.Eng., etc.)   \n",
       "8           Bachelor’s degree (B.A., B.S., B.Eng., etc.)   \n",
       "14                   Associate degree (A.A., A.S., etc.)   \n",
       "17          Bachelor’s degree (B.A., B.S., B.Eng., etc.)   \n",
       "18          Bachelor’s degree (B.A., B.S., B.Eng., etc.)   \n",
       "\n",
       "                                               UndergradMajor  \\\n",
       "Respondent                                                      \n",
       "5           Computer science, computer engineering, or sof...   \n",
       "8           Computer science, computer engineering, or sof...   \n",
       "14          Computer science, computer engineering, or sof...   \n",
       "17          Computer science, computer engineering, or sof...   \n",
       "18          Computer science, computer engineering, or sof...   \n",
       "\n",
       "                                     NEWEdImpt              NEWLearn  \\\n",
       "Respondent                                                             \n",
       "5                               Very important           Once a year   \n",
       "8           Not at all important/not necessary           Once a year   \n",
       "14                          Somewhat important      Every few months   \n",
       "17                            Fairly important           Once a year   \n",
       "18                              Very important  Once every few years   \n",
       "\n",
       "                                       LanguageDesireNextYear  \\\n",
       "Respondent                                                      \n",
       "5                                             Java;Ruby;Scala   \n",
       "8                                                  JavaScript   \n",
       "14                         HTML/CSS;JavaScript;SQL;TypeScript   \n",
       "17          C#;Go;Haskell;HTML/CSS;JavaScript;Python;Ruby;...   \n",
       "18                                              HTML/CSS;Perl   \n",
       "\n",
       "                               LanguageWorkedWith  \n",
       "Respondent                                         \n",
       "5                               HTML/CSS;Ruby;SQL  \n",
       "8                                      Python;SQL  \n",
       "14             HTML/CSS;JavaScript;SQL;TypeScript  \n",
       "17          C#;HTML/CSS;JavaScript;Python;SQL;VBA  \n",
       "18            Bash/Shell/PowerShell;HTML/CSS;Perl  "
      ]
     },
     "execution_count": 5,
     "metadata": {},
     "output_type": "execute_result"
    }
   ],
   "source": [
    "stackO_US = stackO.loc[stackO['Country'] == 'United States']\n",
    "stackO_US.head()\n",
    "#12469 rows × 16 columns"
   ]
  },
  {
   "cell_type": "code",
   "execution_count": 6,
   "metadata": {},
   "outputs": [
    {
     "data": {
      "text/plain": [
       "(12469, 16)"
      ]
     },
     "execution_count": 6,
     "metadata": {},
     "output_type": "execute_result"
    }
   ],
   "source": [
    "# Overview of data shape and composition\n",
    "stackO_US.shape"
   ]
  },
  {
   "cell_type": "markdown",
   "metadata": {},
   "source": [
    "## **YearsCode** \n",
    "\n",
    ">Including any education, how many years have you been coding in total?"
   ]
  },
  {
   "cell_type": "code",
   "execution_count": 7,
   "metadata": {},
   "outputs": [
    {
     "data": {
      "text/plain": [
       "array(['15', '17', '5', '7', '19', '9', '20', '3', '6', '25', '16', '36',\n",
       "       '8', '38', '2', '33', '21', '30', '10', '37', '13', '27', '11',\n",
       "       '35', '24', '50', '4', '23', '22', '18', '14', '44', '26', '12',\n",
       "       '42', '40', '31', '34', '43', '28', '32', '29', 'Less than 1 year',\n",
       "       'More than 50 years', '41', '1', nan, '39', '46', '47', '45', '49',\n",
       "       '48'], dtype=object)"
      ]
     },
     "execution_count": 7,
     "metadata": {},
     "output_type": "execute_result"
    }
   ],
   "source": [
    "#Check reponse options\n",
    "stackO_US['YearsCode'].unique()"
   ]
  },
  {
   "cell_type": "markdown",
   "metadata": {},
   "source": [
    "## **YearsCodePro** \n",
    "\n",
    ">NOT including education, how many years have you coded professionally (as a part of your work)?"
   ]
  },
  {
   "cell_type": "code",
   "execution_count": 8,
   "metadata": {},
   "outputs": [
    {
     "data": {
      "text/plain": [
       "array(['8', '13', '1', '3', '12', '20', nan, '10', '29', '4', '23', '14',\n",
       "       '15', '16', '7', '25', '2', '11', 'Less than 1 year', '5', '21',\n",
       "       '19', '35', '18', '6', '32', '28', '9', '22', '30', '38', '24',\n",
       "       '17', '31', 'More than 50 years', '33', '34', '26', '27', '36',\n",
       "       '40', '39', '37', '41', '45', '47', '42', '43', '44', '48', '46',\n",
       "       '49'], dtype=object)"
      ]
     },
     "execution_count": 8,
     "metadata": {},
     "output_type": "execute_result"
    }
   ],
   "source": [
    "#Check reponse options\n",
    "stackO_US['YearsCodePro'].unique()"
   ]
  },
  {
   "cell_type": "markdown",
   "metadata": {},
   "source": [
    ">## Quality problem\n",
    ">- (Q2) **`stackO_Us`** variables (i.e. columns) `YearsCode` and `YearsCodePro`  contain dtype=object, rather than numerical values.\n",
    "### Solution\n",
    "- Change string observations (i.e. pandas type 'object') of variable `YearsCode` to numerical.\n",
    "- Change string observations (i.e. pandas type 'object') of variable `YearsCodePro` to numerical."
   ]
  },
  {
   "cell_type": "code",
   "execution_count": 9,
   "metadata": {},
   "outputs": [
    {
     "name": "stdout",
     "output_type": "stream",
     "text": [
      "Years Code Less than 1 year:  94\n",
      "Years Code More than 50 year: 72\n",
      "Years Code Pro Less than 1 year:  407\n",
      "Years Code Pro More than 50 year: 20\n"
     ]
    }
   ],
   "source": [
    "yCodeless=stackO_US[stackO_US['YearsCode']=='Less than 1 year']\n",
    "yCodemore =stackO_US[stackO_US['YearsCode']=='More than 50 years']\n",
    "yCode_proLess=stackO_US[stackO_US['YearsCodePro']=='Less than 1 year']\n",
    "yCode_proMore=stackO_US[stackO_US['YearsCodePro']=='More than 50 years']\n",
    "\n",
    "print(f\"Years Code Less than 1 year:  {len(yCodeless)}\")\n",
    "print(f\"Years Code More than 50 year: {len(yCodemore)}\")\n",
    "print(f\"Years Code Pro Less than 1 year:  {len(yCode_proLess)}\")\n",
    "print(f\"Years Code Pro More than 50 year: {len(yCode_proMore)}\")"
   ]
  },
  {
   "cell_type": "code",
   "execution_count": 10,
   "metadata": {},
   "outputs": [
    {
     "name": "stdout",
     "output_type": "stream",
     "text": [
      "94\n",
      "72\n",
      "407\n",
      "20\n"
     ]
    }
   ],
   "source": [
    "#convert 'More than 50 years' to numeric value\n",
    "stackO_US= stackO_US.replace('More than 50 years','50.5')\n",
    "\n",
    "#convert 'Less than 1 year' to numeric value.\n",
    "stackO_US= stackO_US.replace('Less than 1 year','0.5')\n",
    "\n",
    "print(len(stackO_US[stackO_US['YearsCode']=='0.5']))\n",
    "print(len(stackO_US[stackO_US['YearsCode']=='50.5']))\n",
    "print(len(stackO_US[stackO_US['YearsCodePro']=='0.5']))\n",
    "print(len(stackO_US[stackO_US['YearsCodePro']=='50.5']))"
   ]
  },
  {
   "cell_type": "code",
   "execution_count": 11,
   "metadata": {},
   "outputs": [],
   "source": [
    "#convert columns to numeric\n",
    "stackO_US['YearsCode'] = pd.to_numeric(stackO_US['YearsCode'])\n",
    "stackO_US['YearsCodePro'] = pd.to_numeric(stackO_US['YearsCodePro'])\n",
    "#stackO_US.head()"
   ]
  },
  {
   "cell_type": "markdown",
   "metadata": {},
   "source": [
    "### Check: Data Type"
   ]
  },
  {
   "cell_type": "code",
   "execution_count": 12,
   "metadata": {},
   "outputs": [
    {
     "name": "stdout",
     "output_type": "stream",
     "text": [
      "<class 'pandas.core.frame.DataFrame'>\n",
      "Int64Index: 12469 entries, 5 to 64858\n",
      "Data columns (total 16 columns):\n",
      " #   Column                  Non-Null Count  Dtype  \n",
      "---  ------                  --------------  -----  \n",
      " 0   DevType                 10355 non-null  object \n",
      " 1   OpSys                   11409 non-null  object \n",
      " 2   YearsCode               11759 non-null  float64\n",
      " 3   YearsCodePro            9945 non-null   float64\n",
      " 4   Country                 12469 non-null  object \n",
      " 5   Hobbyist                12469 non-null  object \n",
      " 6   Age                     9619 non-null   float64\n",
      " 7   Gender                  10490 non-null  object \n",
      " 8   Ethnicity               10074 non-null  object \n",
      " 9   Employment              12417 non-null  object \n",
      " 10  EdLevel                 11732 non-null  object \n",
      " 11  UndergradMajor          10701 non-null  object \n",
      " 12  NEWEdImpt               10410 non-null  object \n",
      " 13  NEWLearn                11353 non-null  object \n",
      " 14  LanguageDesireNextYear  10891 non-null  object \n",
      " 15  LanguageWorkedWith      11633 non-null  object \n",
      "dtypes: float64(3), object(13)\n",
      "memory usage: 1.6+ MB\n"
     ]
    }
   ],
   "source": [
    "stackO_US.info()"
   ]
  },
  {
   "cell_type": "code",
   "execution_count": 13,
   "metadata": {},
   "outputs": [
    {
     "data": {
      "text/plain": [
       "(12469, 16)"
      ]
     },
     "execution_count": 13,
     "metadata": {},
     "output_type": "execute_result"
    }
   ],
   "source": [
    "# Check number of rows & columns\n",
    "stackO_US.shape"
   ]
  },
  {
   "cell_type": "code",
   "execution_count": 14,
   "metadata": {},
   "outputs": [
    {
     "name": "stdout",
     "output_type": "stream",
     "text": [
      "710\n",
      "2524\n"
     ]
    }
   ],
   "source": [
    "# identify number of rows that do not specify years code\n",
    "not_specified = stackO_US['YearsCode'].isna().sum()\n",
    "not_specifiedPro = stackO_US['YearsCodePro'].isna().sum()\n",
    "\n",
    "print(not_specified)\n",
    "print(not_specifiedPro)"
   ]
  },
  {
   "cell_type": "code",
   "execution_count": 15,
   "metadata": {},
   "outputs": [
    {
     "data": {
      "text/plain": [
       "(12469, 16)"
      ]
     },
     "execution_count": 15,
     "metadata": {},
     "output_type": "execute_result"
    }
   ],
   "source": [
    "stackO_US.shape"
   ]
  },
  {
   "cell_type": "code",
   "execution_count": 16,
   "metadata": {},
   "outputs": [],
   "source": [
    "# drop number of rows that do not specify years code\n",
    "#stackUS = stackO_US['YearsCode'].dropna()"
   ]
  },
  {
   "cell_type": "code",
   "execution_count": 17,
   "metadata": {},
   "outputs": [],
   "source": [
    "# Save and Export Cleaned File as CSV\n",
    "#stackO_US.to_csv(\"data/stackO_US.csv\")"
   ]
  },
  {
   "cell_type": "markdown",
   "metadata": {},
   "source": [
    "## **Gender** \n",
    "\n",
    ">Which of the following describe you, if any? Please check all that apply. If you prefer not to answer, you may leave this question blank."
   ]
  },
  {
   "cell_type": "code",
   "execution_count": 18,
   "metadata": {},
   "outputs": [
    {
     "data": {
      "text/plain": [
       "array(['Man', 'Woman', nan,\n",
       "       'Man;Non-binary, genderqueer, or gender non-conforming',\n",
       "       'Non-binary, genderqueer, or gender non-conforming',\n",
       "       'Woman;Non-binary, genderqueer, or gender non-conforming',\n",
       "       'Woman;Man',\n",
       "       'Woman;Man;Non-binary, genderqueer, or gender non-conforming'],\n",
       "      dtype=object)"
      ]
     },
     "execution_count": 18,
     "metadata": {},
     "output_type": "execute_result"
    }
   ],
   "source": [
    "#Check reponse options\n",
    "stackO_US['Gender'].unique()"
   ]
  },
  {
   "cell_type": "code",
   "execution_count": 19,
   "metadata": {},
   "outputs": [
    {
     "name": "stdout",
     "output_type": "stream",
     "text": [
      "Nan:0\n",
      "Male:9176\n",
      "Female:1086\n",
      "Man:Non-Binary:42\n",
      "Woman:Non-Binary:46\n",
      "LGBTQ:131\n",
      "Woman:Man:6\n",
      "Woman:Man:Non-Binary:3\n",
      "Not Specified:1979\n"
     ]
    }
   ],
   "source": [
    "#Check the number of reponses for Gender\n",
    "\n",
    "nan = stackO_US[stackO_US['Gender']=='nan']\n",
    "male = stackO_US[stackO_US['Gender']=='Man']\n",
    "female = stackO_US[stackO_US['Gender']=='Woman']\n",
    "man = stackO_US[stackO_US['Gender']=='Man;Non-binary, genderqueer, or gender non-conforming']\n",
    "lgbtq = stackO_US[stackO_US['Gender']=='Non-binary, genderqueer, or gender non-conforming']\n",
    "woman = stackO_US[stackO_US['Gender']=='Woman;Non-binary, genderqueer, or gender non-conforming']\n",
    "wm = stackO_US[stackO_US['Gender']=='Woman;Man']\n",
    "wm_non = stackO_US[stackO_US['Gender']=='Woman;Man;Non-binary, genderqueer, or gender non-conforming']\n",
    "unspecified = stackO_US['Gender'].isna().sum()\n",
    "\n",
    "print(f\"Nan:{len(nan)}\")\n",
    "print(f\"Male:{len(male)}\")\n",
    "print(f\"Female:{len(female)}\")\n",
    "print(f\"Man:Non-Binary:{len(man)}\")\n",
    "print(f\"Woman:Non-Binary:{len(woman)}\")\n",
    "print(f\"LGBTQ:{len(lgbtq)}\")\n",
    "print(f\"Woman:Man:{len(wm)}\")\n",
    "print(f\"Woman:Man:Non-Binary:{len(wm_non)}\")\n",
    "print(f\"Not Specified:{(unspecified)}\")"
   ]
  },
  {
   "cell_type": "code",
   "execution_count": null,
   "metadata": {},
   "outputs": [],
   "source": [
    "#years = stackO_US.sort_values(by ='YearsCode',ascending = True)"
   ]
  },
  {
   "cell_type": "code",
   "execution_count": null,
   "metadata": {},
   "outputs": [],
   "source": [
    "\n"
   ]
  },
  {
   "cell_type": "code",
   "execution_count": null,
   "metadata": {},
   "outputs": [],
   "source": []
  },
  {
   "cell_type": "code",
   "execution_count": null,
   "metadata": {},
   "outputs": [],
   "source": []
  }
 ],
 "metadata": {
  "kernelspec": {
   "display_name": "PythonData",
   "language": "python",
   "name": "pythondata"
  },
  "language_info": {
   "codemirror_mode": {
    "name": "ipython",
    "version": 3
   },
   "file_extension": ".py",
   "mimetype": "text/x-python",
   "name": "python",
   "nbconvert_exporter": "python",
   "pygments_lexer": "ipython3",
   "version": "3.7.7"
  }
 },
 "nbformat": 4,
 "nbformat_minor": 4
}
